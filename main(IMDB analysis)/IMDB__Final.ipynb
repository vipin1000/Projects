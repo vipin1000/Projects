{
 "cells": [
  {
   "cell_type": "markdown",
   "metadata": {},
   "source": [
    "#  Data Cleaning"
   ]
  },
  {
   "cell_type": "markdown",
   "metadata": {
    "id": "t5Xg_fWXkl-z"
   },
   "source": [
    "## Importing the Libraries"
   ]
  },
  {
   "cell_type": "code",
   "execution_count": 2,
   "metadata": {},
   "outputs": [],
   "source": [
    "import numpy as np\n",
    "import pandas as pd\n",
    "import matplotlib.pyplot as plt"
   ]
  },
  {
   "cell_type": "markdown",
   "metadata": {},
   "source": [
    "# Importing Data  "
   ]
  },
  {
   "cell_type": "code",
   "execution_count": 3,
   "metadata": {},
   "outputs": [
    {
     "data": {
      "text/html": [
       "<div>\n",
       "<style scoped>\n",
       "    .dataframe tbody tr th:only-of-type {\n",
       "        vertical-align: middle;\n",
       "    }\n",
       "\n",
       "    .dataframe tbody tr th {\n",
       "        vertical-align: top;\n",
       "    }\n",
       "\n",
       "    .dataframe thead th {\n",
       "        text-align: right;\n",
       "    }\n",
       "</style>\n",
       "<table border=\"1\" class=\"dataframe\">\n",
       "  <thead>\n",
       "    <tr style=\"text-align: right;\">\n",
       "      <th></th>\n",
       "      <th>review</th>\n",
       "      <th>sentiment</th>\n",
       "    </tr>\n",
       "  </thead>\n",
       "  <tbody>\n",
       "    <tr>\n",
       "      <th>0</th>\n",
       "      <td>One of the other reviewers has mentioned that ...</td>\n",
       "      <td>positive</td>\n",
       "    </tr>\n",
       "    <tr>\n",
       "      <th>1</th>\n",
       "      <td>A wonderful little production. &lt;br /&gt;&lt;br /&gt;The...</td>\n",
       "      <td>positive</td>\n",
       "    </tr>\n",
       "    <tr>\n",
       "      <th>2</th>\n",
       "      <td>I thought this was a wonderful way to spend ti...</td>\n",
       "      <td>positive</td>\n",
       "    </tr>\n",
       "    <tr>\n",
       "      <th>3</th>\n",
       "      <td>Basically there's a family where a little boy ...</td>\n",
       "      <td>negative</td>\n",
       "    </tr>\n",
       "    <tr>\n",
       "      <th>4</th>\n",
       "      <td>Petter Mattei's \"Love in the Time of Money\" is...</td>\n",
       "      <td>positive</td>\n",
       "    </tr>\n",
       "  </tbody>\n",
       "</table>\n",
       "</div>"
      ],
      "text/plain": [
       "                                              review sentiment\n",
       "0  One of the other reviewers has mentioned that ...  positive\n",
       "1  A wonderful little production. <br /><br />The...  positive\n",
       "2  I thought this was a wonderful way to spend ti...  positive\n",
       "3  Basically there's a family where a little boy ...  negative\n",
       "4  Petter Mattei's \"Love in the Time of Money\" is...  positive"
      ]
     },
     "execution_count": 3,
     "metadata": {},
     "output_type": "execute_result"
    }
   ],
   "source": [
    "df = pd.read_csv(\"imdb.csv\")\n",
    "df.head()"
   ]
  },
  {
   "cell_type": "code",
   "execution_count": 4,
   "metadata": {
    "colab": {
     "base_uri": "https://localhost:8080/",
     "height": 206
    },
    "id": "fcPAvR0-kkpQ",
    "outputId": "1c9f8874-fd95-47db-99e0-8baa61f48c17"
   },
   "outputs": [
    {
     "data": {
      "text/plain": [
       "(50000, 2)"
      ]
     },
     "execution_count": 4,
     "metadata": {},
     "output_type": "execute_result"
    }
   ],
   "source": [
    "df.shape"
   ]
  },
  {
   "cell_type": "code",
   "execution_count": 5,
   "metadata": {},
   "outputs": [
    {
     "data": {
      "text/plain": [
       "array([25000, 25000], dtype=int64)"
      ]
     },
     "execution_count": 5,
     "metadata": {},
     "output_type": "execute_result"
    }
   ],
   "source": [
    "df['sentiment'].value_counts().values"
   ]
  },
  {
   "cell_type": "markdown",
   "metadata": {},
   "source": [
    "# Review Frquency Count"
   ]
  },
  {
   "cell_type": "code",
   "execution_count": 6,
   "metadata": {
    "colab": {
     "base_uri": "https://localhost:8080/",
     "height": 112
    },
    "id": "1ZtYFqo2kr5u",
    "outputId": "12080674-beaf-408e-8a96-7ecd93ac76ce"
   },
   "outputs": [
    {
     "data": {
      "text/html": [
       "<div>\n",
       "<style scoped>\n",
       "    .dataframe tbody tr th:only-of-type {\n",
       "        vertical-align: middle;\n",
       "    }\n",
       "\n",
       "    .dataframe tbody tr th {\n",
       "        vertical-align: top;\n",
       "    }\n",
       "\n",
       "    .dataframe thead th {\n",
       "        text-align: right;\n",
       "    }\n",
       "</style>\n",
       "<table border=\"1\" class=\"dataframe\">\n",
       "  <thead>\n",
       "    <tr style=\"text-align: right;\">\n",
       "      <th></th>\n",
       "      <th>Sentiment</th>\n",
       "      <th>Count</th>\n",
       "    </tr>\n",
       "  </thead>\n",
       "  <tbody>\n",
       "    <tr>\n",
       "      <th>0</th>\n",
       "      <td>1</td>\n",
       "      <td>25000</td>\n",
       "    </tr>\n",
       "    <tr>\n",
       "      <th>1</th>\n",
       "      <td>0</td>\n",
       "      <td>25000</td>\n",
       "    </tr>\n",
       "  </tbody>\n",
       "</table>\n",
       "</div>"
      ],
      "text/plain": [
       "   Sentiment  Count\n",
       "0          1  25000\n",
       "1          0  25000"
      ]
     },
     "execution_count": 6,
     "metadata": {},
     "output_type": "execute_result"
    }
   ],
   "source": [
    "\n",
    "vc_df = pd.DataFrame(df['sentiment'].value_counts()).reset_index()\n",
    "vc_df.columns =['Sentiment', 'Count'] \n",
    "vc_df['Sentiment'] = vc_df['Sentiment'].map({'positive': 1, 'negative': 0}) \n",
    "vc_df"
   ]
  },
  {
   "cell_type": "markdown",
   "metadata": {
    "id": "s7QphRI1kuoX"
   },
   "source": [
    "## Pre-processing the data"
   ]
  },
  {
   "cell_type": "markdown",
   "metadata": {
    "id": "xQDdybZSkxX0"
   },
   "source": [
    "### Some common Problems:\n",
    "\n",
    "\n",
    "1.   Remove Punctuation\n",
    "2.   Replace short words\n",
    "3.   Making text lower case\n",
    "4.   Remove stopwords\n",
    "5.   Lemmatization\n",
    "\n"
   ]
  },
  {
   "cell_type": "markdown",
   "metadata": {
    "id": "EnPGEpjZlAIl"
   },
   "source": [
    "# Removing punctuation (.!<>{}’,”(/)-\\)"
   ]
  },
  {
   "cell_type": "code",
   "execution_count": 7,
   "metadata": {
    "colab": {
     "base_uri": "https://localhost:8080/"
    },
    "id": "34Krb3KuyTcd",
    "outputId": "0f5e3ed9-e335-44a2-fd66-11313640597b"
   },
   "outputs": [
    {
     "data": {
      "text/plain": [
       "0        One of the other reviewers has mentioned that ...\n",
       "1        A wonderful little production. <br /><br />The...\n",
       "2        I thought this was a wonderful way to spend ti...\n",
       "3        Basically there's a family where a little boy ...\n",
       "4        Petter Mattei's \"Love in the Time of Money\" is...\n",
       "                               ...                        \n",
       "49995    I thought this movie did a down right good job...\n",
       "49996    Bad plot, bad dialogue, bad acting, idiotic di...\n",
       "49997    I am a Catholic taught in parochial elementary...\n",
       "49998    I'm going to have to disagree with the previou...\n",
       "49999    No one expects the Star Trek movies to be high...\n",
       "Name: review, Length: 50000, dtype: object"
      ]
     },
     "execution_count": 7,
     "metadata": {},
     "output_type": "execute_result"
    }
   ],
   "source": [
    "df['review']"
   ]
  },
  {
   "cell_type": "code",
   "execution_count": 8,
   "metadata": {
    "colab": {
     "base_uri": "https://localhost:8080/"
    },
    "id": "-BvWuaLslEDo",
    "outputId": "8127e834-d860-4de3-9984-d2d96b6e79f7"
   },
   "outputs": [],
   "source": [
    "# Replacing punctuations with space\n",
    "df['review_processed'] = df['review'].str.replace(\"[^a-zA-Z0-9]\", \" \")\n",
    "\n",
    "# Re ordering columns\n",
    "df = df[['review','review_processed','sentiment']]"
   ]
  },
  {
   "cell_type": "code",
   "execution_count": 9,
   "metadata": {
    "colab": {
     "base_uri": "https://localhost:8080/"
    },
    "id": "7fYhO-vUyd2b",
    "outputId": "71231a48-f31e-43f1-a54f-876e09dd0fec"
   },
   "outputs": [
    {
     "data": {
      "text/plain": [
       "0        One of the other reviewers has mentioned that ...\n",
       "1        A wonderful little production. <br /><br />The...\n",
       "2        I thought this was a wonderful way to spend ti...\n",
       "3        Basically there's a family where a little boy ...\n",
       "4        Petter Mattei's \"Love in the Time of Money\" is...\n",
       "                               ...                        \n",
       "49995    I thought this movie did a down right good job...\n",
       "49996    Bad plot, bad dialogue, bad acting, idiotic di...\n",
       "49997    I am a Catholic taught in parochial elementary...\n",
       "49998    I'm going to have to disagree with the previou...\n",
       "49999    No one expects the Star Trek movies to be high...\n",
       "Name: review_processed, Length: 50000, dtype: object"
      ]
     },
     "execution_count": 9,
     "metadata": {},
     "output_type": "execute_result"
    }
   ],
   "source": [
    "df['review_processed']"
   ]
  },
  {
   "cell_type": "markdown",
   "metadata": {
    "id": "0_0SgpwclGII"
   },
   "source": [
    "#### Replacing short words"
   ]
  },
  {
   "cell_type": "code",
   "execution_count": 10,
   "metadata": {
    "colab": {
     "base_uri": "https://localhost:8080/",
     "height": 35
    },
    "id": "z-1hmonUdBKb",
    "outputId": "781c7c7d-1156-4734-9b74-5f79f9d7ec14"
   },
   "outputs": [
    {
     "data": {
      "text/plain": [
       "'this@batch@is@awesome'"
      ]
     },
     "execution_count": 10,
     "metadata": {},
     "output_type": "execute_result"
    }
   ],
   "source": [
    "'@'.join([\"this\", \"batch\" , \"is\", \"awesome\"])"
   ]
  },
  {
   "cell_type": "code",
   "execution_count": 11,
   "metadata": {
    "id": "qWB6NgkglKDh"
   },
   "outputs": [],
   "source": [
    "df['review_processed'] = df['review_processed'].apply(lambda row: ' '.join([word for word in row.split() if len(word)>2]))"
   ]
  },
  {
   "cell_type": "code",
   "execution_count": 12,
   "metadata": {
    "colab": {
     "base_uri": "https://localhost:8080/"
    },
    "id": "U3Ci05WAzKpB",
    "outputId": "9ab166e6-403f-4ac4-936d-ab0811ad5bd8"
   },
   "outputs": [
    {
     "data": {
      "text/plain": [
       "0        One the other reviewers has mentioned that aft...\n",
       "1        wonderful little production. <br /><br />The f...\n",
       "2        thought this was wonderful way spend time too ...\n",
       "3        Basically there's family where little boy (Jak...\n",
       "4        Petter Mattei's \"Love the Time Money\" visually...\n",
       "                               ...                        \n",
       "49995    thought this movie did down right good job. wa...\n",
       "49996    Bad plot, bad dialogue, bad acting, idiotic di...\n",
       "49997    Catholic taught parochial elementary schools n...\n",
       "49998    I'm going have disagree with the previous comm...\n",
       "49999    one expects the Star Trek movies high art, but...\n",
       "Name: review_processed, Length: 50000, dtype: object"
      ]
     },
     "execution_count": 12,
     "metadata": {},
     "output_type": "execute_result"
    }
   ],
   "source": [
    "df['review_processed']"
   ]
  },
  {
   "cell_type": "markdown",
   "metadata": {
    "id": "6eOqCCXwlVKH"
   },
   "source": [
    "#### LowerCase character"
   ]
  },
  {
   "cell_type": "code",
   "execution_count": 13,
   "metadata": {
    "colab": {
     "base_uri": "https://localhost:8080/"
    },
    "id": "VD_2WT2X31xx",
    "outputId": "1f53c26f-c4ae-4d57-cb10-26cdd3269de2"
   },
   "outputs": [
    {
     "data": {
      "text/plain": [
       "False"
      ]
     },
     "execution_count": 13,
     "metadata": {},
     "output_type": "execute_result"
    }
   ],
   "source": [
    "\"kousik\" == \"Kousik\""
   ]
  },
  {
   "cell_type": "code",
   "execution_count": 14,
   "metadata": {
    "colab": {
     "base_uri": "https://localhost:8080/",
     "height": 35
    },
    "id": "DKqxOYg9zWkM",
    "outputId": "30afef60-e436-452c-ec2c-6748c2576436"
   },
   "outputs": [
    {
     "data": {
      "text/plain": [
       "'kousik'"
      ]
     },
     "execution_count": 14,
     "metadata": {},
     "output_type": "execute_result"
    }
   ],
   "source": [
    "word = \"Kousik\"\n",
    "word.lower()"
   ]
  },
  {
   "cell_type": "code",
   "execution_count": 15,
   "metadata": {
    "id": "n4GrYhNGlZxc"
   },
   "outputs": [],
   "source": [
    "# make entire text lowercase\n",
    "df['review_processed'] = [review.lower() for review in df['review_processed']]"
   ]
  },
  {
   "cell_type": "code",
   "execution_count": 16,
   "metadata": {
    "colab": {
     "base_uri": "https://localhost:8080/"
    },
    "id": "CtsK9VyAzblI",
    "outputId": "67c771e6-4981-4572-b7c5-d3ed1800d855"
   },
   "outputs": [
    {
     "data": {
      "text/plain": [
       "0        one the other reviewers has mentioned that aft...\n",
       "1        wonderful little production. <br /><br />the f...\n",
       "2        thought this was wonderful way spend time too ...\n",
       "3        basically there's family where little boy (jak...\n",
       "4        petter mattei's \"love the time money\" visually...\n",
       "                               ...                        \n",
       "49995    thought this movie did down right good job. wa...\n",
       "49996    bad plot, bad dialogue, bad acting, idiotic di...\n",
       "49997    catholic taught parochial elementary schools n...\n",
       "49998    i'm going have disagree with the previous comm...\n",
       "49999    one expects the star trek movies high art, but...\n",
       "Name: review_processed, Length: 50000, dtype: object"
      ]
     },
     "execution_count": 16,
     "metadata": {},
     "output_type": "execute_result"
    }
   ],
   "source": [
    "df['review_processed']"
   ]
  },
  {
   "cell_type": "markdown",
   "metadata": {
    "id": "MfHnY0VLlb5q"
   },
   "source": [
    "# Tokenization"
   ]
  },
  {
   "cell_type": "markdown",
   "metadata": {},
   "source": [
    "#### Remove stop words"
   ]
  },
  {
   "cell_type": "code",
   "execution_count": 17,
   "metadata": {
    "colab": {
     "base_uri": "https://localhost:8080/"
    },
    "id": "Eh6W-o_blcxb",
    "outputId": "e6b268e5-43fe-4578-dbfd-5e3cdf622410"
   },
   "outputs": [
    {
     "name": "stderr",
     "output_type": "stream",
     "text": [
      "[nltk_data] Downloading package punkt to\n",
      "[nltk_data]     C:\\Users\\ruhal\\AppData\\Roaming\\nltk_data...\n",
      "[nltk_data]   Package punkt is already up-to-date!\n",
      "[nltk_data] Downloading package stopwords to\n",
      "[nltk_data]     C:\\Users\\ruhal\\AppData\\Roaming\\nltk_data...\n",
      "[nltk_data]   Package stopwords is already up-to-date!\n"
     ]
    }
   ],
   "source": [
    "# Removing Stopwords Begin\n",
    "import nltk\n",
    "nltk.download('punkt')\n",
    "nltk.download('stopwords')\n",
    "from nltk.corpus import stopwords\n",
    "from nltk import word_tokenize\n",
    "\n",
    "stop_words = stopwords.words('english')\n",
    "\n",
    "# Making custom list of words to be removed \n",
    "add_words = ['movie','film','one','make','even','like','see','movies','get','makes','making','time','good','watch','character']\n",
    "\n",
    "# Adding to the list of words\n",
    "stop_words.extend(add_words)\n",
    "\n",
    "# Function to remove stop words \n",
    "def remove_stopwords(rev):\n",
    "    review_tokenized = word_tokenize(rev)\n",
    "    rev_new = \" \".join([i for i in review_tokenized  if i not in stop_words])\n",
    "    return rev_new\n",
    "\n",
    "# Removing stopwords\n",
    "df['review_processed'] = [remove_stopwords(r) for r in df['review_processed']]"
   ]
  },
  {
   "cell_type": "code",
   "execution_count": 18,
   "metadata": {
    "colab": {
     "base_uri": "https://localhost:8080/"
    },
    "id": "9jefl9uw0PcU",
    "outputId": "3e016b5c-9329-4ed0-bed2-29fd4e149d7f"
   },
   "outputs": [
    {
     "data": {
      "text/plain": [
       "0        reviewers mentioned watching episode 'll hooke...\n",
       "1        wonderful little production . < br / > < br / ...\n",
       "2        thought wonderful way spend hot summer weekend...\n",
       "3        basically 's family little boy ( jake ) thinks...\n",
       "4        petter mattei 's `` love money '' visually stu...\n",
       "                               ...                        \n",
       "49995    thought right job . n't creative original firs...\n",
       "49996    bad plot , bad dialogue , bad acting , idiotic...\n",
       "49997    catholic taught parochial elementary schools n...\n",
       "49998    'm going disagree previous comment side maltin...\n",
       "49999    expects star trek high art , fans expect best ...\n",
       "Name: review_processed, Length: 50000, dtype: object"
      ]
     },
     "execution_count": 18,
     "metadata": {},
     "output_type": "execute_result"
    }
   ],
   "source": [
    "df['review_processed']"
   ]
  },
  {
   "cell_type": "markdown",
   "metadata": {
    "id": "IvO1L6Vvlf_q"
   },
   "source": [
    "#### Lemmatization"
   ]
  },
  {
   "cell_type": "code",
   "execution_count": 19,
   "metadata": {
    "colab": {
     "base_uri": "https://localhost:8080/"
    },
    "id": "_2OCaQ4W5bux",
    "outputId": "a2bde64b-f35f-44a5-8bc7-fcb2818f329b"
   },
   "outputs": [
    {
     "name": "stdout",
     "output_type": "stream",
     "text": [
      "('This', 'DTeee')\n",
      "('batch', 'NNeee')\n",
      "('is', 'VBZeee')\n",
      "('awesom', 'JJeee')\n"
     ]
    }
   ],
   "source": [
    "nltk_tagged = nltk.pos_tag(nltk.word_tokenize(\"This batch is awesom\"))  \n",
    "for i in map(lambda x: (x[0], x[1]+\"eee\"),nltk_tagged):\n",
    "    print(i)"
   ]
  },
  {
   "cell_type": "markdown",
   "metadata": {
    "id": "mE5aeCPoYARP"
   },
   "source": [
    "1) split sentence into words\n",
    "2) get the detailed POS for each word\n",
    "3) get shallow POS from detailed POS\n",
    "4) do lemmatisation for each word\n",
    "5) join all the words to form sentence "
   ]
  },
  {
   "cell_type": "code",
   "execution_count": 20,
   "metadata": {
    "colab": {
     "base_uri": "https://localhost:8080/"
    },
    "id": "PzSVUgVg4B-a",
    "outputId": "4cb4d224-6dfc-4735-eaa8-1696c584d8b4"
   },
   "outputs": [
    {
     "data": {
      "text/plain": [
       "0        reviewers mentioned watching episode 'll hooke...\n",
       "1        wonderful little production . < br / > < br / ...\n",
       "2        thought wonderful way spend hot summer weekend...\n",
       "3        basically 's family little boy ( jake ) thinks...\n",
       "4        petter mattei 's `` love money '' visually stu...\n",
       "                               ...                        \n",
       "49995    thought right job . n't creative original firs...\n",
       "49996    bad plot , bad dialogue , bad acting , idiotic...\n",
       "49997    catholic taught parochial elementary schools n...\n",
       "49998    'm going disagree previous comment side maltin...\n",
       "49999    expects star trek high art , fans expect best ...\n",
       "Name: review_processed, Length: 50000, dtype: object"
      ]
     },
     "execution_count": 20,
     "metadata": {},
     "output_type": "execute_result"
    }
   ],
   "source": [
    "df['review_processed']"
   ]
  },
  {
   "cell_type": "markdown",
   "metadata": {
    "id": "V7lsO7Iklv0u"
   },
   "source": [
    "#### Plotting Freqent Words"
   ]
  },
  {
   "cell_type": "code",
   "execution_count": 21,
   "metadata": {
    "colab": {
     "base_uri": "https://localhost:8080/",
     "height": 423
    },
    "id": "OmNmbtSLLui8",
    "outputId": "75fb0254-fc18-4106-90ea-7725e57f7001"
   },
   "outputs": [
    {
     "data": {
      "text/html": [
       "<div>\n",
       "<style scoped>\n",
       "    .dataframe tbody tr th:only-of-type {\n",
       "        vertical-align: middle;\n",
       "    }\n",
       "\n",
       "    .dataframe tbody tr th {\n",
       "        vertical-align: top;\n",
       "    }\n",
       "\n",
       "    .dataframe thead th {\n",
       "        text-align: right;\n",
       "    }\n",
       "</style>\n",
       "<table border=\"1\" class=\"dataframe\">\n",
       "  <thead>\n",
       "    <tr style=\"text-align: right;\">\n",
       "      <th></th>\n",
       "      <th>review</th>\n",
       "      <th>review_processed</th>\n",
       "      <th>sentiment</th>\n",
       "    </tr>\n",
       "  </thead>\n",
       "  <tbody>\n",
       "    <tr>\n",
       "      <th>0</th>\n",
       "      <td>One of the other reviewers has mentioned that ...</td>\n",
       "      <td>reviewers mentioned watching episode 'll hooke...</td>\n",
       "      <td>positive</td>\n",
       "    </tr>\n",
       "    <tr>\n",
       "      <th>1</th>\n",
       "      <td>A wonderful little production. &lt;br /&gt;&lt;br /&gt;The...</td>\n",
       "      <td>wonderful little production . &lt; br / &gt; &lt; br / ...</td>\n",
       "      <td>positive</td>\n",
       "    </tr>\n",
       "    <tr>\n",
       "      <th>2</th>\n",
       "      <td>I thought this was a wonderful way to spend ti...</td>\n",
       "      <td>thought wonderful way spend hot summer weekend...</td>\n",
       "      <td>positive</td>\n",
       "    </tr>\n",
       "    <tr>\n",
       "      <th>3</th>\n",
       "      <td>Basically there's a family where a little boy ...</td>\n",
       "      <td>basically 's family little boy ( jake ) thinks...</td>\n",
       "      <td>negative</td>\n",
       "    </tr>\n",
       "    <tr>\n",
       "      <th>4</th>\n",
       "      <td>Petter Mattei's \"Love in the Time of Money\" is...</td>\n",
       "      <td>petter mattei 's `` love money '' visually stu...</td>\n",
       "      <td>positive</td>\n",
       "    </tr>\n",
       "    <tr>\n",
       "      <th>...</th>\n",
       "      <td>...</td>\n",
       "      <td>...</td>\n",
       "      <td>...</td>\n",
       "    </tr>\n",
       "    <tr>\n",
       "      <th>49995</th>\n",
       "      <td>I thought this movie did a down right good job...</td>\n",
       "      <td>thought right job . n't creative original firs...</td>\n",
       "      <td>positive</td>\n",
       "    </tr>\n",
       "    <tr>\n",
       "      <th>49996</th>\n",
       "      <td>Bad plot, bad dialogue, bad acting, idiotic di...</td>\n",
       "      <td>bad plot , bad dialogue , bad acting , idiotic...</td>\n",
       "      <td>negative</td>\n",
       "    </tr>\n",
       "    <tr>\n",
       "      <th>49997</th>\n",
       "      <td>I am a Catholic taught in parochial elementary...</td>\n",
       "      <td>catholic taught parochial elementary schools n...</td>\n",
       "      <td>negative</td>\n",
       "    </tr>\n",
       "    <tr>\n",
       "      <th>49998</th>\n",
       "      <td>I'm going to have to disagree with the previou...</td>\n",
       "      <td>'m going disagree previous comment side maltin...</td>\n",
       "      <td>negative</td>\n",
       "    </tr>\n",
       "    <tr>\n",
       "      <th>49999</th>\n",
       "      <td>No one expects the Star Trek movies to be high...</td>\n",
       "      <td>expects star trek high art , fans expect best ...</td>\n",
       "      <td>negative</td>\n",
       "    </tr>\n",
       "  </tbody>\n",
       "</table>\n",
       "<p>50000 rows × 3 columns</p>\n",
       "</div>"
      ],
      "text/plain": [
       "                                                  review  \\\n",
       "0      One of the other reviewers has mentioned that ...   \n",
       "1      A wonderful little production. <br /><br />The...   \n",
       "2      I thought this was a wonderful way to spend ti...   \n",
       "3      Basically there's a family where a little boy ...   \n",
       "4      Petter Mattei's \"Love in the Time of Money\" is...   \n",
       "...                                                  ...   \n",
       "49995  I thought this movie did a down right good job...   \n",
       "49996  Bad plot, bad dialogue, bad acting, idiotic di...   \n",
       "49997  I am a Catholic taught in parochial elementary...   \n",
       "49998  I'm going to have to disagree with the previou...   \n",
       "49999  No one expects the Star Trek movies to be high...   \n",
       "\n",
       "                                        review_processed sentiment  \n",
       "0      reviewers mentioned watching episode 'll hooke...  positive  \n",
       "1      wonderful little production . < br / > < br / ...  positive  \n",
       "2      thought wonderful way spend hot summer weekend...  positive  \n",
       "3      basically 's family little boy ( jake ) thinks...  negative  \n",
       "4      petter mattei 's `` love money '' visually stu...  positive  \n",
       "...                                                  ...       ...  \n",
       "49995  thought right job . n't creative original firs...  positive  \n",
       "49996  bad plot , bad dialogue , bad acting , idiotic...  negative  \n",
       "49997  catholic taught parochial elementary schools n...  negative  \n",
       "49998  'm going disagree previous comment side maltin...  negative  \n",
       "49999  expects star trek high art , fans expect best ...  negative  \n",
       "\n",
       "[50000 rows x 3 columns]"
      ]
     },
     "execution_count": 21,
     "metadata": {},
     "output_type": "execute_result"
    }
   ],
   "source": [
    "df"
   ]
  },
  {
   "cell_type": "code",
   "execution_count": 22,
   "metadata": {
    "colab": {
     "base_uri": "https://localhost:8080/",
     "height": 317
    },
    "id": "HbhrF7ihl2VY",
    "outputId": "e99741d0-7c6a-454f-d372-cbab754b1fc9"
   },
   "outputs": [
    {
     "data": {
      "image/png": "[encoded data removed]",
      "text/plain": [
       "<Figure size 2000x500 with 1 Axes>"
      ]
     },
     "metadata": {},
     "output_type": "display_data"
    }
   ],
   "source": [
    "##\n",
    "## Plotting most frequent words from positive reviews using bar chart\n",
    "##\n",
    "import matplotlib.pyplot as plt\n",
    "import seaborn as sns\n",
    "sns.set(style = 'white')\n",
    "from nltk import FreqDist #function to find the frequent words in the data\n",
    "\n",
    "# Subset positive review dataset\n",
    "all_words_df = df.loc[df['sentiment'] == 'positive',:]\n",
    "\n",
    "#Extracts words into list and count frequency\n",
    "all_words = ' '.join([text for text in all_words_df['review_processed']])\n",
    "all_words = all_words.split()\n",
    "words_df = FreqDist(all_words)\n",
    "\n",
    "# Extracting words and frequency from words_df object\n",
    "words_df = pd.DataFrame({'word':list(words_df.keys()), 'count':list(words_df.values())})\n",
    "words_df\n",
    "# Subsets top 30 words by frequency\n",
    "words_df = words_df.nlargest(columns=\"count\", n = 30) \n",
    "\n",
    "words_df.sort_values('count', inplace = True)\n",
    "\n",
    "# Plotting 30 frequent words\n",
    "plt.figure(figsize=(20,5))\n",
    "ax = plt.barh(words_df['word'], width = words_df['count'])\n",
    "plt.show()"
   ]
  },
  {
   "cell_type": "markdown",
   "metadata": {
    "id": "54ye6b4-l8I3"
   },
   "source": [
    "#### WordCloud"
   ]
  },
  {
   "cell_type": "code",
   "execution_count": 23,
   "metadata": {
    "colab": {
     "base_uri": "https://localhost:8080/",
     "height": 607
    },
    "id": "C-QFUI-Jl9yc",
    "outputId": "f9abbeff-1170-446c-9b08-4b334ec638fa"
   },
   "outputs": [
    {
     "data": {
      "image/png": "[encoded data removed]",
      "text/plain": [
       "<Figure size 800x800 with 1 Axes>"
      ]
     },
     "metadata": {},
     "output_type": "display_data"
    }
   ],
   "source": [
    "##\n",
    "## Bilding a Word Cloud\n",
    "## \n",
    "from wordcloud import WordCloud\n",
    "word_cloud_df = df.loc[df['sentiment'] == 'positive',:]\n",
    "all_words = ' '.join([text for text in word_cloud_df['review_processed']])\n",
    " \n",
    "\n",
    "wordcloud = WordCloud(width = 800, height = 800, \n",
    "                      background_color ='white', \n",
    "                      min_font_size = 10).generate(all_words)\n",
    "\n",
    "#plot the WordCloud image                        \n",
    "plt.figure(figsize = (8, 8), facecolor = None) \n",
    "plt.imshow(wordcloud) \n",
    "plt.axis(\"off\") \n",
    "plt.tight_layout(pad = 0) \n",
    "plt.show()"
   ]
  },
  {
   "cell_type": "markdown",
   "metadata": {
    "id": "eoYGBWLfmAKl"
   },
   "source": [
    "### Bag of Words Model"
   ]
  },
  {
   "cell_type": "code",
   "execution_count": 24,
   "metadata": {
    "id": "p1J0WJyqmLeU"
   },
   "outputs": [],
   "source": [
    "# Importing module\n",
    "from sklearn.feature_extraction.text import TfidfVectorizer\n",
    "\n",
    "# Creating matrix of top 2500 tokens\n",
    "tfidf = TfidfVectorizer(max_features=2500)\n",
    "tmp_df = tfidf.fit_transform(df.review_processed)\n",
    "feature_names = tfidf.get_feature_names_out()\n",
    "pd.DataFrame(tmp_df.toarray(), columns = feature_names).head() \n",
    "\n",
    "X = tfidf.fit_transform(df.review_processed).toarray()\n",
    "y = df.sentiment.map({'positive' : 1, 'negative' : 0}).values\n",
    "featureNames = tfidf.get_feature_names_out()\n",
    "\n",
    "# Splitting the dataset into train and test\n",
    "from sklearn.model_selection import train_test_split\n",
    "X_train, X_test, y_train, y_test = train_test_split(X, y, test_size = 0.20)"
   ]
  },
  {
   "cell_type": "code",
   "execution_count": 25,
   "metadata": {
    "colab": {
     "base_uri": "https://localhost:8080/"
    },
    "id": "FUf-OPvR7gI4",
    "outputId": "d4234411-be00-431d-b52a-1021fa029b9b"
   },
   "outputs": [
    {
     "data": {
      "text/plain": [
       "((40000, 2500), (10000, 2500))"
      ]
     },
     "execution_count": 25,
     "metadata": {},
     "output_type": "execute_result"
    }
   ],
   "source": [
    "X_train.shape, X_test.shape"
   ]
  },
  {
   "cell_type": "markdown",
   "metadata": {
    "id": "BSqccQAjmMNR"
   },
   "source": [
    "## Building the ML model"
   ]
  },
  {
   "cell_type": "markdown",
   "metadata": {
    "id": "UTOTU7fakfkm"
   },
   "source": [
    "## Feature Importance"
   ]
  },
  {
   "cell_type": "code",
   "execution_count": 26,
   "metadata": {
    "colab": {
     "base_uri": "https://localhost:8080/"
    },
    "id": "Omz__Y6PkewW",
    "outputId": "c6815133-9b96-4dd4-9c87-385cd920208e"
   },
   "outputs": [
    {
     "data": {
      "text/plain": [
       "array([0, 0, 0, ..., 0, 0, 1], dtype=int64)"
      ]
     },
     "execution_count": 26,
     "metadata": {},
     "output_type": "execute_result"
    }
   ],
   "source": [
    "from sklearn.tree import DecisionTreeClassifier\n",
    "\n",
    "dt = DecisionTreeClassifier()\n",
    "dt.fit(X_train,y_train)\n",
    "\n",
    "y_pred = dt.predict(X_test)\n",
    "y_pred"
   ]
  },
  {
   "cell_type": "code",
   "execution_count": 27,
   "metadata": {
    "colab": {
     "base_uri": "https://localhost:8080/"
    },
    "id": "HynJfmUSUjaL",
    "outputId": "ce6eb71f-8464-4918-add9-218346e734ac"
   },
   "outputs": [
    {
     "name": "stdout",
     "output_type": "stream",
     "text": [
      "[[3560 1418]\n",
      " [1473 3549]]\n",
      "The model accuracy is 0.7109\n"
     ]
    }
   ],
   "source": [
    "from sklearn.metrics import confusion_matrix, accuracy_score\n",
    "accuracy = accuracy_score(y_test, y_pred)\n",
    "cm = confusion_matrix(y_test, y_pred)\n",
    "print(cm)\n",
    "print(\"The model accuracy is\", accuracy )"
   ]
  },
  {
   "cell_type": "code",
   "execution_count": 28,
   "metadata": {
    "colab": {
     "base_uri": "https://localhost:8080/",
     "height": 286
    },
    "id": "fXOqCWtuUrcF",
    "outputId": "4c44ad89-3463-492c-d053-9abe455bafbd"
   },
   "outputs": [
    {
     "data": {
      "text/plain": [
       "<Axes: >"
      ]
     },
     "execution_count": 28,
     "metadata": {},
     "output_type": "execute_result"
    },
    {
     "data": {
      "image/png": "[encoded data removed]",
      "text/plain": [
       "<Figure size 640x480 with 2 Axes>"
      ]
     },
     "metadata": {},
     "output_type": "display_data"
    }
   ],
   "source": [
    "group_names = [\"True Pos\",\"False Pos\",\"False Neg\",\"True Neg\"]\n",
    "group_counts = [\"{0:0.0f}\".format(value) for value in cm.flatten()]\n",
    "group_percentages = [\"{0:.2%}\".format(value) for value in cm.flatten()/np.sum(cm)]\n",
    "labels = [f\"{v1}\\n{v2}\\n{v3}\" for v1, v2, v3 in zip(group_names, group_counts, group_percentages)]\n",
    "labels = np.asarray(labels).reshape(2,2)\n",
    "\n",
    "sns.heatmap(cm, annot=labels, fmt=\"\", cmap='Blues')"
   ]
  },
  {
   "cell_type": "code",
   "execution_count": 29,
   "metadata": {
    "colab": {
     "base_uri": "https://localhost:8080/"
    },
    "id": "dNlvFQYBUwUk",
    "outputId": "00dedbeb-ccde-4e51-93b1-a7140e6cf9d3"
   },
   "outputs": [
    {
     "data": {
      "text/plain": [
       "0.7109186033841615"
      ]
     },
     "execution_count": 29,
     "metadata": {},
     "output_type": "execute_result"
    }
   ],
   "source": [
    "from sklearn.metrics import roc_auc_score\n",
    "roc_auc_score(y_test, dt.predict_proba(X_test)[:, 1])"
   ]
  },
  {
   "cell_type": "code",
   "execution_count": 30,
   "metadata": {
    "colab": {
     "base_uri": "https://localhost:8080/"
    },
    "id": "rMze6ue-XUiE",
    "outputId": "b792c0e8-6096-49f6-b211-05a57b29b736"
   },
   "outputs": [
    {
     "data": {
      "text/plain": [
       "0.8658527629094899"
      ]
     },
     "execution_count": 30,
     "metadata": {},
     "output_type": "execute_result"
    }
   ],
   "source": [
    "from sklearn.naive_bayes import GaussianNB\n",
    "clf = GaussianNB()\n",
    "clf.fit(X_train, y_train)\n",
    "\n",
    "from sklearn.metrics import roc_auc_score\n",
    "roc_auc_score(y_test, clf.predict_proba(X_test)[:, 1])"
   ]
  },
  {
   "cell_type": "code",
   "execution_count": 31,
   "metadata": {
    "colab": {
     "base_uri": "https://localhost:8080/",
     "height": 424
    },
    "id": "BESkToN7l7oj",
    "outputId": "a0b90969-ee75-4679-c170-a3c6f180e477"
   },
   "outputs": [
    {
     "data": {
      "text/html": [
       "<div>\n",
       "<style scoped>\n",
       "    .dataframe tbody tr th:only-of-type {\n",
       "        vertical-align: middle;\n",
       "    }\n",
       "\n",
       "    .dataframe tbody tr th {\n",
       "        vertical-align: top;\n",
       "    }\n",
       "\n",
       "    .dataframe thead th {\n",
       "        text-align: right;\n",
       "    }\n",
       "</style>\n",
       "<table border=\"1\" class=\"dataframe\">\n",
       "  <thead>\n",
       "    <tr style=\"text-align: right;\">\n",
       "      <th></th>\n",
       "      <th>Importance</th>\n",
       "      <th>word</th>\n",
       "    </tr>\n",
       "  </thead>\n",
       "  <tbody>\n",
       "    <tr>\n",
       "      <th>104</th>\n",
       "      <td>0.084053</td>\n",
       "      <td>bad</td>\n",
       "    </tr>\n",
       "    <tr>\n",
       "      <th>1432</th>\n",
       "      <td>0.050004</td>\n",
       "      <td>worst</td>\n",
       "    </tr>\n",
       "    <tr>\n",
       "      <th>560</th>\n",
       "      <td>0.037460</td>\n",
       "      <td>great</td>\n",
       "    </tr>\n",
       "    <tr>\n",
       "      <th>1386</th>\n",
       "      <td>0.030077</td>\n",
       "      <td>waste</td>\n",
       "    </tr>\n",
       "    <tr>\n",
       "      <th>101</th>\n",
       "      <td>0.021260</td>\n",
       "      <td>awful</td>\n",
       "    </tr>\n",
       "    <tr>\n",
       "      <th>...</th>\n",
       "      <td>...</td>\n",
       "      <td>...</td>\n",
       "    </tr>\n",
       "    <tr>\n",
       "      <th>1181</th>\n",
       "      <td>0.000033</td>\n",
       "      <td>spanish</td>\n",
       "    </tr>\n",
       "    <tr>\n",
       "      <th>1055</th>\n",
       "      <td>0.000033</td>\n",
       "      <td>road</td>\n",
       "    </tr>\n",
       "    <tr>\n",
       "      <th>468</th>\n",
       "      <td>0.000033</td>\n",
       "      <td>fi</td>\n",
       "    </tr>\n",
       "    <tr>\n",
       "      <th>598</th>\n",
       "      <td>0.000025</td>\n",
       "      <td>hide</td>\n",
       "    </tr>\n",
       "    <tr>\n",
       "      <th>0</th>\n",
       "      <td>0.000000</td>\n",
       "      <td>zombies</td>\n",
       "    </tr>\n",
       "  </tbody>\n",
       "</table>\n",
       "<p>1452 rows × 2 columns</p>\n",
       "</div>"
      ],
      "text/plain": [
       "      Importance     word\n",
       "104     0.084053      bad\n",
       "1432    0.050004    worst\n",
       "560     0.037460    great\n",
       "1386    0.030077    waste\n",
       "101     0.021260    awful\n",
       "...          ...      ...\n",
       "1181    0.000033  spanish\n",
       "1055    0.000033     road\n",
       "468     0.000033       fi\n",
       "598     0.000025     hide\n",
       "0       0.000000  zombies\n",
       "\n",
       "[1452 rows x 2 columns]"
      ]
     },
     "execution_count": 31,
     "metadata": {},
     "output_type": "execute_result"
    }
   ],
   "source": [
    "##featureImportance.sort_values(by='Importance')\n",
    "featureImportance = pd.DataFrame({i : j for i,j in zip(dt.feature_importances_,featureNames)}.items(),columns = ['Importance','word'])\n",
    "featureImportance.sort_values(by='Importance',ascending=False)"
   ]
  },
  {
   "cell_type": "markdown",
   "metadata": {},
   "source": [
    " # Naive bayes classification"
   ]
  },
  {
   "cell_type": "code",
   "execution_count": 32,
   "metadata": {},
   "outputs": [],
   "source": [
    "from sklearn.feature_extraction.text import CountVectorizer\n",
    "from sklearn.naive_bayes import MultinomialNB\n",
    "from sklearn.metrics import accuracy_score, classification_report, confusion_matrix\n",
    "x_array=df.values"
   ]
  },
  {
   "cell_type": "code",
   "execution_count": 33,
   "metadata": {},
   "outputs": [],
   "source": [
    "x_train=x_array[:,1]\n",
    "y_train=x_array[:,0]\n"
   ]
  },
  {
   "cell_type": "code",
   "execution_count": 34,
   "metadata": {},
   "outputs": [
    {
     "name": "stdout",
     "output_type": "stream",
     "text": [
      "[\"reviewers mentioned watching episode 'll hooked . right , exactly happened me. < br / > < br / > first thing struck brutality unflinching scenes violence , set right word go . trust , show faint hearted timid . show pulls punches regards drugs , sex violence . hardcore , classic use word. < br / > < br / > called nickname given oswald maximum security state penitentary . focuses mainly emerald city , experimental section prison cells glass fronts face inwards , privacy high agenda . city home many .. aryans , muslims , gangstas , latinos , christians , italians , irish .... scuffles , death stares , dodgy dealings shady agreements never far away. < br / > < br / > would say main appeal show due fact goes shows would n't dare . forget pretty pictures painted mainstream audiences , forget charm , forget romance ... oz n't mess around . first episode ever saw struck nasty surreal , could n't say ready , watched , developed taste oz , got accustomed high levels graphic violence . violence , injustice ( crooked guards 'll sold nickel , inmates 'll kill order away , well mannered , middle class inmates turned prison bitches due lack street skills prison experience ) watching oz , may become comfortable uncomfortable viewing .... thats touch darker side .\"\n",
      " \"wonderful little production . < br / > < br / > filming technique unassuming- old-time-bbc fashion gives comforting , sometimes discomforting , sense realism entire piece . < br / > < br / > actors extremely well chosen- michael sheen `` got polari '' voices pat ! truly seamless editing guided references williams ' diary entries , well worth watching terrificly written performed piece . masterful production great master 's comedy life . < br / > < br / > realism really comes home little things : fantasy guard , rather use traditional 'dream ' techniques remains solid disappears . plays knowledge senses , particularly scenes concerning orton halliwell sets ( particularly flat halliwell 's murals decorating every surface ) terribly well done .\"\n",
      " \"thought wonderful way spend hot summer weekend , sitting air conditioned theater watching light-hearted comedy . plot simplistic , dialogue witty characters likable ( well bread suspected serial killer ) . may disappointed realize match point risk addiction , thought proof woody allen still fully control style many grown love. < br / > < br / > 'd laughed woody 's comedies years ( dare say decade ? ) . 've never impressed scarlet johanson , managed tone `` sexy '' image jumped right average , spirited young woman. < br / > < br / > may crown jewel career , wittier `` devil wears prada '' interesting `` superman '' great comedy friends .\"\n",
      " ...\n",
      " \"catholic taught parochial elementary schools nuns , taught jesuit priests high school college . still practicing catholic would considered `` catholic '' church 's eyes n't believe certain things act certain ways church tells to. < br / > < br / > back ... bad two people killed nun supposed satire embodiment female religious figurehead . comedy satire done well acting diane keaton . never saw play different may good. < br / > < br / > first thought gun might fake first shooting plan female lead four former students attempt demonstrate sister mary 's emotional intellectual bigotry faith . turns bullets real story tragedy ... tragedy loss life ( besides two former students ... lives aborted babies , life student 's mom ) , tragedy dogmatic authority love people , tragedy organized religion replacing true faith god . wrong today 's islam , yesterday 's judaism christianity .\"\n",
      " \"'m going disagree previous comment side maltin . second rate , excessively vicious western creaks groans trying put across central theme wild west tamed kicked aside steady march . would tradition `` butch cassidy sundance kid '' , lacks 's poignancy charm . andrew mclaglen 's direction limp , final minutes real botch , incomprehensible strategy part heroes charlton heston chris mitchum . ( someone give holler explain set hillside fire . ) something callous whole treatment rape scene , woman 's reaction afterwards certainly ring true . coburn plenty nasty half breed escaped convict revenge , fellow escapees underdeveloped ( 're bowling pins knocked story lurches forward ) . michael parks gives typically shifty , lethargic , mumbling performances , case appropriate modern style sheriff symbolizes complacency technological progress bring .\"\n",
      " \"expects star trek high art , fans expect best episodes . unfortunately , muddled , implausible plot left cringing far worst nine ( far ) . chance well known characters interact another ca n't save including goofy scenes kirk , spock mccoy yosemite. < br / > < br / > would say worth rental , hardly worth watching , however true fan needs , renting way 'll cable channels avoid .\"]\n"
     ]
    }
   ],
   "source": [
    "print(x_train)"
   ]
  },
  {
   "cell_type": "code",
   "execution_count": 35,
   "metadata": {},
   "outputs": [
    {
     "name": "stdout",
     "output_type": "stream",
     "text": [
      "[\"One of the other reviewers has mentioned that after watching just 1 Oz episode you'll be hooked. They are right, as this is exactly what happened with me.<br /><br />The first thing that struck me about Oz was its brutality and unflinching scenes of violence, which set in right from the word GO. Trust me, this is not a show for the faint hearted or timid. This show pulls no punches with regards to drugs, sex or violence. Its is hardcore, in the classic use of the word.<br /><br />It is called OZ as that is the nickname given to the Oswald Maximum Security State Penitentary. It focuses mainly on Emerald City, an experimental section of the prison where all the cells have glass fronts and face inwards, so privacy is not high on the agenda. Em City is home to many..Aryans, Muslims, gangstas, Latinos, Christians, Italians, Irish and more....so scuffles, death stares, dodgy dealings and shady agreements are never far away.<br /><br />I would say the main appeal of the show is due to the fact that it goes where other shows wouldn't dare. Forget pretty pictures painted for mainstream audiences, forget charm, forget romance...OZ doesn't mess around. The first episode I ever saw struck me as so nasty it was surreal, I couldn't say I was ready for it, but as I watched more, I developed a taste for Oz, and got accustomed to the high levels of graphic violence. Not just violence, but injustice (crooked guards who'll be sold out for a nickel, inmates who'll kill on order and get away with it, well mannered, middle class inmates being turned into prison bitches due to their lack of street skills or prison experience) Watching Oz, you may become comfortable with what is uncomfortable viewing....thats if you can get in touch with your darker side.\"\n",
      " 'A wonderful little production. <br /><br />The filming technique is very unassuming- very old-time-BBC fashion and gives a comforting, and sometimes discomforting, sense of realism to the entire piece. <br /><br />The actors are extremely well chosen- Michael Sheen not only \"has got all the polari\" but he has all the voices down pat too! You can truly see the seamless editing guided by the references to Williams\\' diary entries, not only is it well worth the watching but it is a terrificly written and performed piece. A masterful production about one of the great master\\'s of comedy and his life. <br /><br />The realism really comes home with the little things: the fantasy of the guard which, rather than use the traditional \\'dream\\' techniques remains solid then disappears. It plays on our knowledge and our senses, particularly with the scenes concerning Orton and Halliwell and the sets (particularly of their flat with Halliwell\\'s murals decorating every surface) are terribly well done.'\n",
      " 'I thought this was a wonderful way to spend time on a too hot summer weekend, sitting in the air conditioned theater and watching a light-hearted comedy. The plot is simplistic, but the dialogue is witty and the characters are likable (even the well bread suspected serial killer). While some may be disappointed when they realize this is not Match Point 2: Risk Addiction, I thought it was proof that Woody Allen is still fully in control of the style many of us have grown to love.<br /><br />This was the most I\\'d laughed at one of Woody\\'s comedies in years (dare I say a decade?). While I\\'ve never been impressed with Scarlet Johanson, in this she managed to tone down her \"sexy\" image and jumped right into a average, but spirited young woman.<br /><br />This may not be the crown jewel of his career, but it was wittier than \"Devil Wears Prada\" and more interesting than \"Superman\" a great comedy to go see with friends.'\n",
      " ...\n",
      " 'I am a Catholic taught in parochial elementary schools by nuns, taught by Jesuit priests in high school & college. I am still a practicing Catholic but would not be considered a \"good Catholic\" in the church\\'s eyes because I don\\'t believe certain things or act certain ways just because the church tells me to.<br /><br />So back to the movie...its bad because two people are killed by this nun who is supposed to be a satire as the embodiment of a female religious figurehead. There is no comedy in that and the satire is not done well by the over acting of Diane Keaton. I never saw the play but if it was very different from this movies then it may be good.<br /><br />At first I thought the gun might be a fake and the first shooting all a plan by the female lead of the four former students as an attempt to demonstrate Sister Mary\\'s emotional and intellectual bigotry of faith. But it turns out the bullets were real and the story has tragedy...the tragedy of loss of life (besides the two former students...the lives of the aborted babies, the life of the student\\'s mom), the tragedy of dogmatic authority over love of people, the tragedy of organized religion replacing true faith in God. This is what is wrong with today\\'s Islam, and yesterday\\'s Judaism and Christianity.'\n",
      " 'I\\'m going to have to disagree with the previous comment and side with Maltin on this one. This is a second rate, excessively vicious Western that creaks and groans trying to put across its central theme of the Wild West being tamed and kicked aside by the steady march of time. It would like to be in the tradition of \"Butch Cassidy and the Sundance Kid\", but lacks that film\\'s poignancy and charm. Andrew McLaglen\\'s direction is limp, and the final 30 minutes or so are a real botch, with some incomprehensible strategy on the part of heroes Charlton Heston and Chris Mitchum. (Someone give me a holler if you can explain to me why they set that hillside on fire.) There was something callous about the whole treatment of the rape scene, and the woman\\'s reaction afterwards certainly did not ring true. Coburn is plenty nasty as the half breed escaped convict out for revenge, but all of his fellow escapees are underdeveloped (they\\'re like bowling pins to be knocked down one by one as the story lurches forward). Michael Parks gives one of his typically shifty, lethargic, mumbling performances, but in this case it was appropriate as his modern style sheriff symbolizes the complacency that technological progress can bring about.'\n",
      " \"No one expects the Star Trek movies to be high art, but the fans do expect a movie that is as good as some of the best episodes. Unfortunately, this movie had a muddled, implausible plot that just left me cringing - this is by far the worst of the nine (so far) movies. Even the chance to watch the well known characters interact in another movie can't save this movie - including the goofy scenes with Kirk, Spock and McCoy at Yosemite.<br /><br />I would say this movie is not worth a rental, and hardly worth watching, however for the True Fan who needs to see all the movies, renting this movie is about the only way you'll see it - even the cable channels avoid this movie.\"]\n"
     ]
    }
   ],
   "source": [
    "print(y_train)\n",
    "\n"
   ]
  },
  {
   "cell_type": "code",
   "execution_count": 36,
   "metadata": {},
   "outputs": [
    {
     "data": {
      "text/plain": [
       "{'reviewers': 75405,\n",
       " 'mentioned': 57470,\n",
       " 'watching': 98102,\n",
       " 'episode': 30068,\n",
       " 'll': 53140,\n",
       " 'hooked': 42787,\n",
       " 'right': 75809,\n",
       " 'exactly': 30930,\n",
       " 'happened': 40384,\n",
       " 'me': 56894,\n",
       " 'br': 12011,\n",
       " 'first': 33476,\n",
       " 'thing': 90282,\n",
       " 'struck': 86485,\n",
       " 'brutality': 12944,\n",
       " 'unflinching': 94500,\n",
       " 'scenes': 78638,\n",
       " 'violence': 97020,\n",
       " 'set': 80204,\n",
       " 'word': 99970,\n",
       " 'go': 37739,\n",
       " 'trust': 92844,\n",
       " 'show': 81327,\n",
       " 'faint': 31870,\n",
       " 'hearted': 41109,\n",
       " 'timid': 90862,\n",
       " 'pulls': 71495,\n",
       " 'punches': 71542,\n",
       " 'regards': 74002,\n",
       " 'drugs': 27400,\n",
       " 'sex': 80300,\n",
       " 'hardcore': 40446,\n",
       " 'classic': 17503,\n",
       " 'use': 95696,\n",
       " 'called': 14070,\n",
       " 'nickname': 62130,\n",
       " 'given': 37420,\n",
       " 'oswald': 64666,\n",
       " 'maximum': 56445,\n",
       " 'security': 79581,\n",
       " 'state': 85446,\n",
       " 'penitentary': 66976,\n",
       " 'focuses': 34195,\n",
       " 'mainly': 54894,\n",
       " 'emerald': 29213,\n",
       " 'city': 17349,\n",
       " 'experimental': 31325,\n",
       " 'section': 79560,\n",
       " 'prison': 70508,\n",
       " 'cells': 15547,\n",
       " 'glass': 37496,\n",
       " 'fronts': 35378,\n",
       " 'face': 31749,\n",
       " 'inwards': 46497,\n",
       " 'privacy': 70524,\n",
       " 'high': 41899,\n",
       " 'agenda': 2997,\n",
       " 'home': 42570,\n",
       " 'many': 55531,\n",
       " 'aryans': 6132,\n",
       " 'muslims': 60693,\n",
       " 'gangstas': 36162,\n",
       " 'latinos': 51499,\n",
       " 'christians': 16934,\n",
       " 'italians': 46843,\n",
       " 'irish': 46579,\n",
       " 'scuffles': 79321,\n",
       " 'death': 22933,\n",
       " 'stares': 85357,\n",
       " 'dodgy': 26339,\n",
       " 'dealings': 22903,\n",
       " 'shady': 80425,\n",
       " 'agreements': 3103,\n",
       " 'never': 61926,\n",
       " 'far': 32162,\n",
       " 'away': 7195,\n",
       " 'would': 100121,\n",
       " 'say': 78418,\n",
       " 'main': 54880,\n",
       " 'appeal': 5322,\n",
       " 'due': 27563,\n",
       " 'fact': 31794,\n",
       " 'goes': 37859,\n",
       " 'shows': 81362,\n",
       " 'dare': 22565,\n",
       " 'forget': 34528,\n",
       " 'pretty': 70351,\n",
       " 'pictures': 68021,\n",
       " 'painted': 65579,\n",
       " 'mainstream': 54904,\n",
       " 'audiences': 6800,\n",
       " 'charm': 16086,\n",
       " 'romance': 76451,\n",
       " 'oz': 65375,\n",
       " 'mess': 57668,\n",
       " 'around': 5920,\n",
       " 'ever': 30773,\n",
       " 'saw': 78387,\n",
       " 'nasty': 61305,\n",
       " 'surreal': 87709,\n",
       " 'could': 20570,\n",
       " 'ready': 73206,\n",
       " 'watched': 98095,\n",
       " 'developed': 24583,\n",
       " 'taste': 89071,\n",
       " 'got': 38246,\n",
       " 'accustomed': 2143,\n",
       " 'levels': 52351,\n",
       " 'graphic': 38545,\n",
       " 'injustice': 45556,\n",
       " 'crooked': 21416,\n",
       " 'guards': 39253,\n",
       " 'sold': 83590,\n",
       " 'nickel': 62111,\n",
       " 'inmates': 45577,\n",
       " 'kill': 49555,\n",
       " 'order': 64388,\n",
       " 'well': 98502,\n",
       " 'mannered': 55437,\n",
       " 'middle': 57994,\n",
       " 'class': 17499,\n",
       " 'turned': 93157,\n",
       " 'bitches': 10326,\n",
       " 'lack': 50867,\n",
       " 'street': 86301,\n",
       " 'skills': 82334,\n",
       " 'experience': 31317,\n",
       " 'may': 56452,\n",
       " 'become': 8931,\n",
       " 'comfortable': 18601,\n",
       " 'uncomfortable': 93977,\n",
       " 'viewing': 96841,\n",
       " 'thats': 90029,\n",
       " 'touch': 91656,\n",
       " 'darker': 22588,\n",
       " 'side': 81631,\n",
       " 'wonderful': 99822,\n",
       " 'little': 53058,\n",
       " 'production': 70674,\n",
       " 'filming': 33215,\n",
       " 'technique': 89334,\n",
       " 'unassuming': 93820,\n",
       " 'old': 63892,\n",
       " 'time': 90818,\n",
       " 'bbc': 8702,\n",
       " 'fashion': 32312,\n",
       " 'gives': 37423,\n",
       " 'comforting': 18604,\n",
       " 'sometimes': 83730,\n",
       " 'discomforting': 25487,\n",
       " 'sense': 79923,\n",
       " 'realism': 73235,\n",
       " 'entire': 29894,\n",
       " 'piece': 68042,\n",
       " 'actors': 2335,\n",
       " 'extremely': 31598,\n",
       " 'chosen': 16877,\n",
       " 'michael': 57897,\n",
       " 'sheen': 80763,\n",
       " 'polari': 69045,\n",
       " 'voices': 97307,\n",
       " 'pat': 66371,\n",
       " 'truly': 92815,\n",
       " 'seamless': 79419,\n",
       " 'editing': 28402,\n",
       " 'guided': 39334,\n",
       " 'references': 73874,\n",
       " 'williams': 99289,\n",
       " 'diary': 24842,\n",
       " 'entries': 29944,\n",
       " 'worth': 100100,\n",
       " 'terrificly': 89801,\n",
       " 'written': 100265,\n",
       " 'performed': 67164,\n",
       " 'masterful': 56133,\n",
       " 'great': 38681,\n",
       " 'master': 56125,\n",
       " 'comedy': 18576,\n",
       " 'life': 52572,\n",
       " 'really': 73259,\n",
       " 'comes': 18589,\n",
       " 'things': 90291,\n",
       " 'fantasy': 32144,\n",
       " 'guard': 39241,\n",
       " 'rather': 72964,\n",
       " 'traditional': 91872,\n",
       " 'dream': 27164,\n",
       " 'techniques': 89335,\n",
       " 'remains': 74397,\n",
       " 'solid': 83625,\n",
       " 'disappears': 25381,\n",
       " 'plays': 68667,\n",
       " 'knowledge': 50076,\n",
       " 'senses': 79929,\n",
       " 'particularly': 66224,\n",
       " 'concerning': 19111,\n",
       " 'orton': 64582,\n",
       " 'halliwell': 40054,\n",
       " 'sets': 80221,\n",
       " 'flat': 33723,\n",
       " 'murals': 60570,\n",
       " 'decorating': 23179,\n",
       " 'every': 30804,\n",
       " 'surface': 87642,\n",
       " 'terribly': 89794,\n",
       " 'done': 26569,\n",
       " 'thought': 90420,\n",
       " 'way': 98209,\n",
       " 'spend': 84431,\n",
       " 'hot': 43070,\n",
       " 'summer': 87226,\n",
       " 'weekend': 98366,\n",
       " 'sitting': 82166,\n",
       " 'air': 3244,\n",
       " 'conditioned': 19214,\n",
       " 'theater': 90055,\n",
       " 'light': 52617,\n",
       " 'plot': 68786,\n",
       " 'simplistic': 81935,\n",
       " 'dialogue': 24797,\n",
       " 'witty': 99678,\n",
       " 'characters': 16011,\n",
       " 'likable': 52663,\n",
       " 'bread': 12262,\n",
       " 'suspected': 87789,\n",
       " 'serial': 80116,\n",
       " 'killer': 49566,\n",
       " 'disappointed': 25384,\n",
       " 'realize': 73248,\n",
       " 'match': 56194,\n",
       " 'point': 68981,\n",
       " 'risk': 75977,\n",
       " 'addiction': 2429,\n",
       " 'proof': 70884,\n",
       " 'woody': 99901,\n",
       " 'allen': 3723,\n",
       " 'still': 85845,\n",
       " 'fully': 35562,\n",
       " 'control': 19932,\n",
       " 'style': 86674,\n",
       " 'grown': 39114,\n",
       " 'love': 53758,\n",
       " 'laughed': 51552,\n",
       " 'comedies': 18573,\n",
       " 'years': 100729,\n",
       " 'decade': 23031,\n",
       " 've': 96266,\n",
       " 'impressed': 44616,\n",
       " 'scarlet': 78567,\n",
       " 'johanson': 47927,\n",
       " 'managed': 55220,\n",
       " 'tone': 91340,\n",
       " 'sexy': 80345,\n",
       " 'image': 44264,\n",
       " 'jumped': 48320,\n",
       " 'average': 7090,\n",
       " 'spirited': 84579,\n",
       " 'young': 100979,\n",
       " 'woman': 99794,\n",
       " 'crown': 21504,\n",
       " 'jewel': 47682,\n",
       " 'career': 14663,\n",
       " 'wittier': 99671,\n",
       " 'devil': 24625,\n",
       " 'wears': 98283,\n",
       " 'prada': 69851,\n",
       " 'interesting': 46042,\n",
       " 'superman': 87447,\n",
       " 'friends': 35247,\n",
       " 'basically': 8443,\n",
       " 'family': 32034,\n",
       " 'boy': 11968,\n",
       " 'jake': 47147,\n",
       " 'thinks': 90300,\n",
       " 'zombie': 101558,\n",
       " 'closet': 17851,\n",
       " 'parents': 66066,\n",
       " 'fighting': 33105,\n",
       " 'slower': 82825,\n",
       " 'soap': 83378,\n",
       " 'opera': 64195,\n",
       " 'suddenly': 87024,\n",
       " 'decides': 23102,\n",
       " 'rambo': 72675,\n",
       " 'ok': 63833,\n",
       " 're': 73153,\n",
       " 'going': 37887,\n",
       " 'must': 60712,\n",
       " 'decide': 23097,\n",
       " 'thriller': 90490,\n",
       " 'drama': 27072,\n",
       " 'watchable': 98089,\n",
       " 'divorcing': 26160,\n",
       " 'arguing': 5734,\n",
       " 'real': 73223,\n",
       " 'totally': 91624,\n",
       " 'ruins': 77073,\n",
       " 'expected': 31282,\n",
       " 'boogeyman': 11486,\n",
       " 'similar': 81876,\n",
       " 'instead': 45808,\n",
       " 'meaningless': 56932,\n",
       " 'spots': 84804,\n",
       " 'playing': 68653,\n",
       " 'descent': 24242,\n",
       " 'dialogs': 24796,\n",
       " 'shots': 81291,\n",
       " 'ignore': 44119,\n",
       " 'petter': 67543,\n",
       " 'mattei': 56317,\n",
       " 'money': 59338,\n",
       " 'visually': 97163,\n",
       " 'stunning': 86610,\n",
       " 'mr': 60213,\n",
       " 'offers': 63705,\n",
       " 'vivid': 97225,\n",
       " 'portrait': 69520,\n",
       " 'human': 43407,\n",
       " 'relations': 74275,\n",
       " 'seems': 79654,\n",
       " 'telling': 89527,\n",
       " 'power': 69784,\n",
       " 'success': 86958,\n",
       " 'people': 67043,\n",
       " 'different': 24982,\n",
       " 'situations': 82173,\n",
       " 'encounter': 29475,\n",
       " 'variation': 96163,\n",
       " 'arthur': 6051,\n",
       " 'schnitzler': 78835,\n",
       " 'play': 68626,\n",
       " 'theme': 90111,\n",
       " 'director': 25306,\n",
       " 'transfers': 92028,\n",
       " 'action': 2302,\n",
       " 'present': 70237,\n",
       " 'new': 61946,\n",
       " 'york': 100934,\n",
       " 'meet': 57126,\n",
       " 'connect': 19449,\n",
       " 'connected': 19450,\n",
       " 'another': 4891,\n",
       " 'next': 62037,\n",
       " 'person': 67340,\n",
       " 'know': 50068,\n",
       " 'previous': 70380,\n",
       " 'contact': 19734,\n",
       " 'stylishly': 86684,\n",
       " 'sophisticated': 83864,\n",
       " 'luxurious': 54214,\n",
       " 'look': 53495,\n",
       " 'taken': 88664,\n",
       " 'live': 53075,\n",
       " 'world': 100036,\n",
       " 'habitat': 39776,\n",
       " 'gets': 36970,\n",
       " 'souls': 84002,\n",
       " 'picture': 68019,\n",
       " 'stages': 85148,\n",
       " 'loneliness': 53428,\n",
       " 'inhabits': 45481,\n",
       " 'big': 10004,\n",
       " 'best': 9718,\n",
       " 'place': 68464,\n",
       " 'find': 33305,\n",
       " 'sincere': 81973,\n",
       " 'fulfillment': 35540,\n",
       " 'discerns': 25450,\n",
       " 'case': 15007,\n",
       " 'acting': 2297,\n",
       " 'direction': 25297,\n",
       " 'steve': 85769,\n",
       " 'buscemi': 13545,\n",
       " 'rosario': 76633,\n",
       " 'dawson': 22793,\n",
       " 'carol': 14820,\n",
       " 'kane': 48689,\n",
       " 'imperioli': 44488,\n",
       " 'adrian': 2655,\n",
       " 'grenier': 38793,\n",
       " 'rest': 75094,\n",
       " 'talented': 88704,\n",
       " 'cast': 15085,\n",
       " 'come': 18562,\n",
       " 'alive': 3683,\n",
       " 'wish': 99561,\n",
       " 'luck': 53934,\n",
       " 'await': 7171,\n",
       " 'anxiously': 5122,\n",
       " 'work': 99995,\n",
       " 'probably': 70575,\n",
       " 'all': 3693,\n",
       " 'favorite': 32455,\n",
       " 'story': 86099,\n",
       " 'selflessness': 79779,\n",
       " 'sacrifice': 77460,\n",
       " 'dedication': 23220,\n",
       " 'noble': 62473,\n",
       " 'cause': 15340,\n",
       " 'preachy': 69933,\n",
       " 'boring': 11690,\n",
       " 'despite': 24379,\n",
       " 'seen': 79656,\n",
       " 'times': 90844,\n",
       " 'last': 51440,\n",
       " 'paul': 66528,\n",
       " 'lukas': 54010,\n",
       " 'performance': 67160,\n",
       " 'brings': 12572,\n",
       " 'tears': 89297,\n",
       " 'eyes': 31666,\n",
       " 'bette': 9775,\n",
       " 'davis': 22767,\n",
       " 'sympathetic': 88287,\n",
       " 'roles': 76405,\n",
       " 'delight': 23630,\n",
       " 'kids': 49492,\n",
       " 'grandma': 38495,\n",
       " 'says': 78435,\n",
       " 'dressed': 27236,\n",
       " 'up': 95472,\n",
       " 'midgets': 58015,\n",
       " 'children': 16601,\n",
       " 'fun': 35586,\n",
       " 'mother': 59957,\n",
       " 'slow': 82820,\n",
       " 'awakening': 7178,\n",
       " 'happening': 40386,\n",
       " 'roof': 76547,\n",
       " 'believable': 9257,\n",
       " 'startling': 85423,\n",
       " 'dozen': 26994,\n",
       " 'thumbs': 90588,\n",
       " 'sure': 87630,\n",
       " 'resurrection': 75167,\n",
       " 'dated': 22699,\n",
       " 'seahunt': 79403,\n",
       " 'series': 80123,\n",
       " 'tech': 89315,\n",
       " 'today': 91138,\n",
       " 'bring': 12567,\n",
       " 'back': 7461,\n",
       " 'kid': 49457,\n",
       " 'excitement': 31036,\n",
       " 'grew': 38811,\n",
       " 'black': 10407,\n",
       " 'white': 98931,\n",
       " 'gunsmoke': 39533,\n",
       " 'hero': 41649,\n",
       " 'week': 98363,\n",
       " 'you': 100968,\n",
       " 'vote': 97426,\n",
       " 'comeback': 18563,\n",
       " 'sea': 79376,\n",
       " 'hunt': 43562,\n",
       " 'we': 98246,\n",
       " 'need': 61614,\n",
       " 'change': 15906,\n",
       " 'pace': 65426,\n",
       " 'water': 98115,\n",
       " 'adventure': 2706,\n",
       " 'oh': 63779,\n",
       " 'thank': 90000,\n",
       " 'outlet': 64838,\n",
       " 'view': 96833,\n",
       " 'viewpoints': 96845,\n",
       " 'movies': 60155,\n",
       " 'so': 83369,\n",
       " 'ole': 63915,\n",
       " 'believe': 9259,\n",
       " 'wan': 97849,\n",
       " 'na': 60941,\n",
       " 'nice': 62082,\n",
       " 'read': 73184,\n",
       " 'plus': 68873,\n",
       " 'points': 68997,\n",
       " 'if': 44070,\n",
       " 'rhymes': 75599,\n",
       " 'lines': 52836,\n",
       " 'let': 52285,\n",
       " 'submit': 86809,\n",
       " 'leave': 51844,\n",
       " 'doubt': 26861,\n",
       " 'quit': 72220,\n",
       " 'lets': 52306,\n",
       " 'amazing': 4096,\n",
       " 'fresh': 35172,\n",
       " 'innovative': 45622,\n",
       " 'idea': 43961,\n",
       " '70': 1224,\n",
       " 'aired': 3258,\n",
       " 'brilliant': 12547,\n",
       " 'dropped': 27352,\n",
       " '1990': 562,\n",
       " 'funny': 35658,\n",
       " 'anymore': 5136,\n",
       " 'continued': 19841,\n",
       " 'decline': 23145,\n",
       " 'complete': 18907,\n",
       " 'waste': 98066,\n",
       " 'disgraceful': 25622,\n",
       " 'fallen': 31961,\n",
       " 'writing': 100262,\n",
       " 'painfully': 65567,\n",
       " 'bad': 7555,\n",
       " 'performances': 67161,\n",
       " 'almost': 3850,\n",
       " 'mildly': 58169,\n",
       " 'entertaining': 29862,\n",
       " 'respite': 75062,\n",
       " 'guest': 39303,\n",
       " 'hosts': 43069,\n",
       " 'hard': 40436,\n",
       " 'creator': 21086,\n",
       " 'hand': 40207,\n",
       " 'selected': 79759,\n",
       " 'original': 64490,\n",
       " 'also': 3918,\n",
       " 'chose': 16876,\n",
       " 'band': 7958,\n",
       " 'hacks': 39813,\n",
       " 'followed': 34278,\n",
       " 'recognize': 73529,\n",
       " 'brilliance': 12545,\n",
       " 'fit': 33537,\n",
       " 'replace': 74713,\n",
       " 'mediocrity': 57069,\n",
       " 'felt': 32719,\n",
       " 'give': 37416,\n",
       " 'stars': 85406,\n",
       " 'respect': 75044,\n",
       " 'made': 54606,\n",
       " 'huge': 43348,\n",
       " 'awful': 7213,\n",
       " 'ca': 13802,\n",
       " 'encouraged': 29482,\n",
       " 'positive': 69578,\n",
       " 'comments': 18689,\n",
       " 'looking': 53503,\n",
       " 'forward': 34682,\n",
       " 'mistake': 58840,\n",
       " '950': 1379,\n",
       " 'films': 33240,\n",
       " 'worst': 100098,\n",
       " 'pacing': 65455,\n",
       " 'storyline': 86110,\n",
       " 'soundtrack': 84032,\n",
       " 'song': 83783,\n",
       " 'lame': 51080,\n",
       " 'country': 20661,\n",
       " 'tune': 93059,\n",
       " 'played': 68636,\n",
       " 'less': 52266,\n",
       " 'four': 34751,\n",
       " 'looks': 53508,\n",
       " 'cheap': 16221,\n",
       " 'extreme': 31596,\n",
       " 'rarely': 72893,\n",
       " 'happy': 40401,\n",
       " 'end': 29508,\n",
       " 'credits': 21111,\n",
       " 'prevents': 70373,\n",
       " 'giving': 37425,\n",
       " 'score': 79063,\n",
       " 'harvey': 40677,\n",
       " 'keitel': 49137,\n",
       " 'least': 51825,\n",
       " 'bit': 10322,\n",
       " 'effort': 28549,\n",
       " 'obsessives': 63444,\n",
       " 'gut': 39591,\n",
       " 'wrenching': 100204,\n",
       " 'laughter': 51563,\n",
       " 'hell': 41372,\n",
       " 'mom': 59275,\n",
       " 'liked': 52669,\n",
       " 'it': 46834,\n",
       " 'camp': 14212,\n",
       " 'phil': 67705,\n",
       " 'alien': 3638,\n",
       " 'quirky': 72213,\n",
       " 'humour': 43493,\n",
       " 'based': 8409,\n",
       " 'oddness': 63610,\n",
       " 'everything': 30818,\n",
       " 'actual': 2342,\n",
       " 'punchlines': 71547,\n",
       " 'odd': 63600,\n",
       " 'progressed': 70769,\n",
       " 'jokes': 47981,\n",
       " 'low': 53807,\n",
       " 'budget': 13092,\n",
       " 'problem': 70593,\n",
       " 'eventually': 30768,\n",
       " 'lost': 53650,\n",
       " 'interest': 46038,\n",
       " 'imagine': 44280,\n",
       " 'stoner': 86013,\n",
       " 'currently': 21907,\n",
       " 'partaking': 66189,\n",
       " 'something': 83724,\n",
       " 'better': 9776,\n",
       " 'try': 92865,\n",
       " 'brother': 12812,\n",
       " 'planet': 68527,\n",
       " 'came': 14154,\n",
       " 'recall': 73410,\n",
       " 'scariest': 78559,\n",
       " 'scene': 78631,\n",
       " 'bird': 10239,\n",
       " 'eating': 28201,\n",
       " 'men': 57368,\n",
       " 'dangling': 22477,\n",
       " 'helplessly': 41442,\n",
       " 'parachutes': 65926,\n",
       " 'horror': 42967,\n",
       " 'cheesy': 16333,\n",
       " 'saturday': 78278,\n",
       " 'afternoons': 2954,\n",
       " 'tired': 90970,\n",
       " 'formula': 34595,\n",
       " 'monster': 59471,\n",
       " 'type': 93416,\n",
       " 'usually': 95734,\n",
       " 'included': 44855,\n",
       " 'beautiful': 8870,\n",
       " 'might': 58073,\n",
       " 'daughter': 22721,\n",
       " 'professor': 70706,\n",
       " 'resolution': 75011,\n",
       " 'died': 24943,\n",
       " 'care': 14656,\n",
       " 'much': 60270,\n",
       " 'romantic': 76468,\n",
       " 'angle': 4672,\n",
       " 'year': 100717,\n",
       " 'predictable': 70030,\n",
       " 'plots': 68796,\n",
       " 'unintentional': 94723,\n",
       " 'humor': 43483,\n",
       " 'later': 51471,\n",
       " 'psycho': 71292,\n",
       " 'loved': 53767,\n",
       " 'star': 85331,\n",
       " 'janet': 47217,\n",
       " 'leigh': 52045,\n",
       " 'bumped': 13309,\n",
       " 'early': 28106,\n",
       " 'sat': 78192,\n",
       " 'took': 91385,\n",
       " 'notice': 62860,\n",
       " 'since': 81972,\n",
       " 'screenwriters': 79213,\n",
       " 'scary': 78585,\n",
       " 'possible': 69609,\n",
       " 'worn': 100066,\n",
       " 'rules': 77088,\n",
       " 'fan': 32046,\n",
       " 'boll': 11292,\n",
       " 'enjoyed': 29700,\n",
       " 'postal': 69614,\n",
       " 'maybe': 56462,\n",
       " 'apparently': 5313,\n",
       " 'bought': 11834,\n",
       " 'rights': 75825,\n",
       " 'cry': 21620,\n",
       " 'long': 53440,\n",
       " 'ago': 3071,\n",
       " 'game': 36085,\n",
       " 'finsished': 33395,\n",
       " 'killing': 49573,\n",
       " 'mercs': 57530,\n",
       " 'infiltrating': 45334,\n",
       " 'secret': 79540,\n",
       " 'research': 74908,\n",
       " 'labs': 50842,\n",
       " 'located': 53245,\n",
       " 'tropical': 92701,\n",
       " 'island': 46765,\n",
       " 'warned': 97970,\n",
       " 'schemed': 78707,\n",
       " 'together': 91173,\n",
       " 'along': 3867,\n",
       " 'legion': 51990,\n",
       " 'schmucks': 78821,\n",
       " 'feeling': 32614,\n",
       " 'loneley': 53425,\n",
       " 'invites': 46471,\n",
       " 'three': 90467,\n",
       " 'countrymen': 20664,\n",
       " 'players': 68638,\n",
       " 'names': 61123,\n",
       " 'til': 90776,\n",
       " 'schweiger': 78969,\n",
       " 'udo': 93538,\n",
       " 'kier': 49505,\n",
       " 'ralf': 72645,\n",
       " 'moeller': 59138,\n",
       " 'actually': 2348,\n",
       " 'selfs': 79782,\n",
       " 'biz': 10362,\n",
       " 'tale': 88701,\n",
       " 'jack': 47010,\n",
       " 'carver': 14980,\n",
       " 'yes': 100801,\n",
       " 'german': 36891,\n",
       " 'hail': 39919,\n",
       " 'bratwurst': 12201,\n",
       " 'dudes': 27552,\n",
       " 'however': 43206,\n",
       " 'tils': 90795,\n",
       " 'badass': 7561,\n",
       " 'complained': 18892,\n",
       " 'staying': 85513,\n",
       " 'true': 92792,\n",
       " 'whole': 99014,\n",
       " 'perspective': 67376,\n",
       " 'looked': 53498,\n",
       " 'kicking': 49452,\n",
       " 'beyond': 9845,\n",
       " 'demented': 23749,\n",
       " 'evil': 30849,\n",
       " 'mad': 54571,\n",
       " 'scientist': 78997,\n",
       " 'dr': 27010,\n",
       " 'krieger': 50451,\n",
       " 'genetically': 36711,\n",
       " 'mutated': 60739,\n",
       " 'soldiers': 83599,\n",
       " 'gms': 37715,\n",
       " 'performing': 67167,\n",
       " 'top': 91433,\n",
       " 'reminds': 74458,\n",
       " 'spoiler': 84689,\n",
       " 'vancouver': 96052,\n",
       " 'reason': 73311,\n",
       " 'palm': 65683,\n",
       " 'trees': 92328,\n",
       " 'rich': 75643,\n",
       " 'lumberjack': 54035,\n",
       " 'woods': 99885,\n",
       " 'gone': 38011,\n",
       " 'started': 85415,\n",
       " 'mehehe': 57182,\n",
       " 'stay': 85509,\n",
       " 'bolls': 11303,\n",
       " 'shenanigans': 80846,\n",
       " 'delivers': 23663,\n",
       " 'meaning': 56926,\n",
       " 'suck': 86992,\n",
       " 'mentioning': 57471,\n",
       " 'imply': 44562,\n",
       " 'areas': 5684,\n",
       " 'boat': 11052,\n",
       " 'cromed': 21392,\n",
       " 'albino': 3486,\n",
       " 'squad': 84938,\n",
       " 'enters': 29852,\n",
       " 'laugh': 51549,\n",
       " 'reeks': 73828,\n",
       " 'scheisse': 78696,\n",
       " 'poop': 69322,\n",
       " 'simpletons': 81924,\n",
       " 'fa': 31706,\n",
       " 'take': 88655,\n",
       " 'wiff': 99176,\n",
       " 'ahead': 3146,\n",
       " 'btw': 12998,\n",
       " 'annoying': 4861,\n",
       " 'sidekick': 81641,\n",
       " 'shoot': 81209,\n",
       " 'minutes': 58519,\n",
       " 'screen': 79193,\n",
       " 'shakespeare': 80469,\n",
       " 'appreciate': 5427,\n",
       " 'trying': 92870,\n",
       " 'masses': 56099,\n",
       " 'ruin': 77066,\n",
       " 'good': 38035,\n",
       " 'the': 90043,\n",
       " 'scottish': 79102,\n",
       " 'certain': 15681,\n",
       " 'rev': 75323,\n",
       " 'bowdler': 11912,\n",
       " 'hence': 41491,\n",
       " 'bowdlerization': 11915,\n",
       " 'tried': 92489,\n",
       " 'victorian': 96740,\n",
       " 'era': 30160,\n",
       " 'words': 99983,\n",
       " 'improve': 44654,\n",
       " 'perfection': 67137,\n",
       " 'write': 100250,\n",
       " 'ten': 89602,\n",
       " 'text': 89937,\n",
       " 'english': 29648,\n",
       " 'composition': 18976,\n",
       " 'forte': 34640,\n",
       " 'keep': 49099,\n",
       " 'saying': 78427,\n",
       " 'cut': 21998,\n",
       " 'fantastic': 32135,\n",
       " 'prisoners': 70511,\n",
       " 'famous': 32044,\n",
       " 'george': 36834,\n",
       " 'clooney': 17838,\n",
       " 'roll': 76410,\n",
       " 'man': 55216,\n",
       " 'constant': 19652,\n",
       " 'sorrow': 83939,\n",
       " 'recommand': 73554,\n",
       " 'everybody': 30808,\n",
       " 'greetings': 38765,\n",
       " 'bart': 8363,\n",
       " 'kind': 49633,\n",
       " 'drawn': 27141,\n",
       " 'erotic': 30263,\n",
       " 'amateurish': 4076,\n",
       " 'unbelievable': 93869,\n",
       " 'bits': 10341,\n",
       " 'sort': 83944,\n",
       " 'school': 78861,\n",
       " 'project': 70790,\n",
       " 'rosanna': 76630,\n",
       " 'arquette': 5931,\n",
       " 'thinking': 90299,\n",
       " 'stock': 85944,\n",
       " 'bizarre': 10364,\n",
       " 'supposed': 87572,\n",
       " 'midwest': 58052,\n",
       " 'town': 91747,\n",
       " 'involved': 46486,\n",
       " 'lessons': 52275,\n",
       " 'learned': 51807,\n",
       " 'insights': 45728,\n",
       " 'stilted': 85858,\n",
       " 'quite': 72221,\n",
       " 'ridiculous': 75734,\n",
       " 'lots': 53669,\n",
       " 'skin': 82349,\n",
       " 'intrigues': 46314,\n",
       " 'videotaped': 96785,\n",
       " 'nonsense': 62650,\n",
       " 'bisexual': 10297,\n",
       " 'relationship': 74276,\n",
       " 'nowhere': 62953,\n",
       " 'heterosexual': 41761,\n",
       " 'encounters': 29479,\n",
       " 'absurd': 1934,\n",
       " 'dance': 22422,\n",
       " 'stereotyped': 85730,\n",
       " 'pass': 66291,\n",
       " 'million': 58267,\n",
       " 'miles': 58178,\n",
       " 'wasted': 98068,\n",
       " 'spent': 84439,\n",
       " 'starving': 85433,\n",
       " 'aids': 3194,\n",
       " 'africa': 2923,\n",
       " 'simply': 81937,\n",
       " 'remade': 74387,\n",
       " 'fails': 31865,\n",
       " 'capture': 14571,\n",
       " 'flavor': 33769,\n",
       " 'terror': 89817,\n",
       " '1963': 518,\n",
       " 'title': 91025,\n",
       " 'liam': 52438,\n",
       " 'neeson': 61635,\n",
       " 'excellent': 30994,\n",
       " 'always': 4010,\n",
       " 'holds': 42434,\n",
       " 'exception': 31005,\n",
       " 'owen': 65330,\n",
       " 'wilson': 99330,\n",
       " 'feel': 32610,\n",
       " 'luke': 54012,\n",
       " 'major': 54947,\n",
       " 'fault': 32422,\n",
       " 'version': 96570,\n",
       " 'strayed': 86277,\n",
       " 'shirley': 81074,\n",
       " 'jackson': 47047,\n",
       " 'attempts': 6694,\n",
       " 'grandiose': 38489,\n",
       " 'thrill': 90488,\n",
       " 'earlier': 28101,\n",
       " 'trade': 91858,\n",
       " 'snazzier': 83164,\n",
       " 'special': 84303,\n",
       " 'effects': 28524,\n",
       " 'enjoy': 29696,\n",
       " 'friction': 35215,\n",
       " 'older': 63897,\n",
       " 'horrible': 42946,\n",
       " 'continuous': 19848,\n",
       " 'minute': 58515,\n",
       " 'fight': 33099,\n",
       " 'chance': 15877,\n",
       " 'development': 24588,\n",
       " 'busy': 13619,\n",
       " 'running': 77153,\n",
       " 'sword': 88183,\n",
       " 'emotional': 29309,\n",
       " 'attachment': 6670,\n",
       " 'except': 31002,\n",
       " 'machine': 54478,\n",
       " 'wanted': 97893,\n",
       " 'destroy': 24422,\n",
       " 'blatantly': 10596,\n",
       " 'stolen': 85985,\n",
       " 'lotr': 53668,\n",
       " 'wars': 98009,\n",
       " 'matrix': 56300,\n",
       " 'examples': 30962,\n",
       " 'ghost': 37043,\n",
       " 'final': 33278,\n",
       " 'yoda': 100872,\n",
       " 'obee': 63303,\n",
       " 'vader': 95872,\n",
       " 'spider': 84482,\n",
       " 'beginning': 9112,\n",
       " 'frodo': 35335,\n",
       " 'attacked': 6676,\n",
       " 'return': 75295,\n",
       " 'kings': 49687,\n",
       " 'elijah': 28929,\n",
       " 'wood': 99850,\n",
       " 'victim': 96724,\n",
       " 'wait': 97692,\n",
       " 'hypnotizes': 43797,\n",
       " 'stings': 85881,\n",
       " 'wraps': 100180,\n",
       " 'uh': 93589,\n",
       " 'hello': 41401,\n",
       " 'vs': 97478,\n",
       " 'humans': 43440,\n",
       " 'terminator': 89759,\n",
       " 'someone': 83709,\n",
       " 'tell': 89521,\n",
       " 'nazi': 61486,\n",
       " 'juvenile': 48436,\n",
       " 'line': 52819,\n",
       " 'rushed': 77188,\n",
       " 'conclusion': 19145,\n",
       " 'adult': 2674,\n",
       " 'either': 28723,\n",
       " 'disappointment': 25387,\n",
       " 'save': 78351,\n",
       " 'remember': 74436,\n",
       " 'cinema': 17193,\n",
       " 'dark': 22581,\n",
       " 'places': 68473,\n",
       " 'nervous': 61824,\n",
       " '74': 1253,\n",
       " '75': 1260,\n",
       " 'dad': 22204,\n",
       " 'sister': 82134,\n",
       " 'newbury': 61956,\n",
       " 'berkshire': 9590,\n",
       " 'england': 29640,\n",
       " 'tigers': 90748,\n",
       " 'snow': 83307,\n",
       " 'appearance': 5328,\n",
       " 'grizzly': 38975,\n",
       " 'adams': 2394,\n",
       " 'actor': 2332,\n",
       " 'dan': 22416,\n",
       " 'haggery': 39880,\n",
       " 'think': 90293,\n",
       " 'shot': 81285,\n",
       " 'dies': 24959,\n",
       " 'anyone': 5138,\n",
       " 'knows': 50086,\n",
       " 'dvd': 27917,\n",
       " 'etc': 30554,\n",
       " 'please': 68701,\n",
       " 'fitness': 33541,\n",
       " 'club': 17909,\n",
       " 'shame': 80528,\n",
       " 'nearest': 61532,\n",
       " 'hear': 41074,\n",
       " 'others': 64685,\n",
       " 'stinkers': 85894,\n",
       " 'nominated': 62573,\n",
       " 'golden': 37915,\n",
       " 'globe': 37622,\n",
       " 'female': 32722,\n",
       " 'renaissance': 74518,\n",
       " 'painter': 65580,\n",
       " 'mangled': 55325,\n",
       " 'recognition': 73525,\n",
       " 'complaint': 18897,\n",
       " 'liberties': 52482,\n",
       " 'facts': 31812,\n",
       " 'perfectly': 67142,\n",
       " 'fine': 33314,\n",
       " 'accounts': 2109,\n",
       " 'artist': 6090,\n",
       " 'dishwater': 25663,\n",
       " ...}"
      ]
     },
     "execution_count": 36,
     "metadata": {},
     "output_type": "execute_result"
    }
   ],
   "source": [
    "from sklearn.feature_extraction.text import CountVectorizer\n",
    "vec=CountVectorizer()\n",
    "#fitting vectorizer on training data\n",
    "vec.fit(x_train)\n",
    "vec.vocabulary_"
   ]
  },
  {
   "cell_type": "code",
   "execution_count": 37,
   "metadata": {},
   "outputs": [
    {
     "name": "stdout",
     "output_type": "stream",
     "text": [
      "101755\n"
     ]
    }
   ],
   "source": [
    "print(len(vec.get_feature_names_out()))"
   ]
  },
  {
   "cell_type": "code",
   "execution_count": 38,
   "metadata": {},
   "outputs": [
    {
     "name": "stdout",
     "output_type": "stream",
     "text": [
      "['00' '000' '00000000000' ... 'żmijewski' 'יגאל' 'כרמון']\n"
     ]
    }
   ],
   "source": [
    "print(vec.get_feature_names_out())"
   ]
  },
  {
   "cell_type": "code",
   "execution_count": 39,
   "metadata": {},
   "outputs": [
    {
     "data": {
      "text/plain": [
       "{'watching': 438,\n",
       " 'episode': 110,\n",
       " 'll': 233,\n",
       " 'right': 323,\n",
       " 'exactly': 113,\n",
       " 'happened': 168,\n",
       " 'br': 40,\n",
       " 'thing': 397,\n",
       " 'scenes': 338,\n",
       " 'violence': 430,\n",
       " 'set': 350,\n",
       " 'word': 449,\n",
       " 'sex': 352,\n",
       " 'classic': 64,\n",
       " 'use': 421,\n",
       " 'called': 46,\n",
       " 'given': 152,\n",
       " 'city': 63,\n",
       " 'face': 120,\n",
       " 'high': 178,\n",
       " 'home': 184,\n",
       " 'death': 85,\n",
       " 'far': 126,\n",
       " 'away': 22,\n",
       " 'say': 334,\n",
       " 'main': 245,\n",
       " 'fact': 121,\n",
       " 'goes': 156,\n",
       " 'shows': 357,\n",
       " 'pretty': 304,\n",
       " 'saw': 333,\n",
       " 'watched': 437,\n",
       " 'got': 159,\n",
       " 'kill': 207,\n",
       " 'order': 280,\n",
       " 'middle': 253,\n",
       " 'turned': 416,\n",
       " 'lack': 215,\n",
       " 'experience': 117,\n",
       " 'wonderful': 448,\n",
       " 'little': 229,\n",
       " 'production': 308,\n",
       " 'old': 276,\n",
       " 'time': 402,\n",
       " 'gives': 153,\n",
       " 'sense': 347,\n",
       " 'entire': 109,\n",
       " 'piece': 292,\n",
       " 'actors': 7,\n",
       " 'extremely': 118,\n",
       " 'michael': 252,\n",
       " 'truly': 412,\n",
       " 'worth': 456,\n",
       " 'written': 459,\n",
       " 'great': 160,\n",
       " 'comedy': 68,\n",
       " 'life': 224,\n",
       " 'really': 315,\n",
       " 'comes': 69,\n",
       " 'things': 398,\n",
       " 'plays': 297,\n",
       " 'particularly': 283,\n",
       " 'sets': 351,\n",
       " 'thought': 401,\n",
       " 'way': 439,\n",
       " 'light': 225,\n",
       " 'plot': 298,\n",
       " 'dialogue': 89,\n",
       " 'characters': 57,\n",
       " 'killer': 209,\n",
       " 'disappointed': 94,\n",
       " 'point': 299,\n",
       " 'style': 385,\n",
       " 'love': 242,\n",
       " 'years': 462,\n",
       " 've': 425,\n",
       " 'young': 464,\n",
       " 'woman': 445,\n",
       " 'career': 51,\n",
       " 'interesting': 199,\n",
       " 'friends': 143,\n",
       " 'basically': 26,\n",
       " 'family': 123,\n",
       " 'boy': 39,\n",
       " 'going': 157,\n",
       " 'drama': 95,\n",
       " 'real': 313,\n",
       " 'totally': 408,\n",
       " 'similar': 359,\n",
       " 'instead': 198,\n",
       " 'playing': 296,\n",
       " 'shots': 355,\n",
       " 'money': 260,\n",
       " 'mr': 264,\n",
       " 'human': 192,\n",
       " 'people': 286,\n",
       " 'different': 90,\n",
       " 'play': 294,\n",
       " 'director': 93,\n",
       " 'action': 5,\n",
       " 'new': 269,\n",
       " 'person': 290,\n",
       " 'know': 212,\n",
       " 'look': 236,\n",
       " 'taken': 389,\n",
       " 'live': 230,\n",
       " 'world': 453,\n",
       " 'gets': 148,\n",
       " 'picture': 291,\n",
       " 'big': 32,\n",
       " 'best': 30,\n",
       " 'place': 293,\n",
       " 'case': 52,\n",
       " 'acting': 4,\n",
       " 'direction': 92,\n",
       " 'rest': 321,\n",
       " 'cast': 53,\n",
       " 'come': 67,\n",
       " 'wish': 443,\n",
       " 'work': 451,\n",
       " 'probably': 305,\n",
       " 'favorite': 129,\n",
       " 'story': 379,\n",
       " 'boring': 38,\n",
       " 'despite': 88,\n",
       " 'seen': 345,\n",
       " 'times': 403,\n",
       " 'performance': 288,\n",
       " 'eyes': 119,\n",
       " 'roles': 326,\n",
       " 'kids': 206,\n",
       " 'says': 336,\n",
       " 'children': 60,\n",
       " 'fun': 144,\n",
       " 'mother': 261,\n",
       " 'slow': 363,\n",
       " 'sure': 387,\n",
       " 'series': 348,\n",
       " 'today': 405,\n",
       " 'bring': 42,\n",
       " 'kid': 205,\n",
       " 'black': 34,\n",
       " 'white': 441,\n",
       " 'hero': 177,\n",
       " 'need': 268,\n",
       " 'change': 56,\n",
       " 'view': 428,\n",
       " 'believe': 29,\n",
       " 'nice': 270,\n",
       " 'read': 312,\n",
       " 'lines': 228,\n",
       " 'let': 222,\n",
       " 'leave': 220,\n",
       " 'amazing': 13,\n",
       " 'idea': 195,\n",
       " 'brilliant': 41,\n",
       " 'funny': 145,\n",
       " 'complete': 71,\n",
       " 'waste': 436,\n",
       " 'writing': 458,\n",
       " 'bad': 24,\n",
       " 'performances': 289,\n",
       " 'entertaining': 107,\n",
       " 'hard': 171,\n",
       " 'hand': 166,\n",
       " 'original': 281,\n",
       " 'felt': 132,\n",
       " 'stars': 373,\n",
       " 'huge': 191,\n",
       " 'awful': 23,\n",
       " 'ca': 45,\n",
       " 'looking': 238,\n",
       " 'films': 136,\n",
       " 'worst': 455,\n",
       " 'song': 367,\n",
       " 'country': 74,\n",
       " 'played': 295,\n",
       " 'looks': 239,\n",
       " 'cheap': 58,\n",
       " 'happy': 170,\n",
       " 'end': 100,\n",
       " 'giving': 154,\n",
       " 'score': 340,\n",
       " 'bit': 33,\n",
       " 'hell': 175,\n",
       " 'liked': 226,\n",
       " 'based': 25,\n",
       " 'jokes': 204,\n",
       " 'low': 244,\n",
       " 'budget': 44,\n",
       " 'problem': 306,\n",
       " 'lost': 240,\n",
       " 'better': 31,\n",
       " 'try': 413,\n",
       " 'brother': 43,\n",
       " 'came': 47,\n",
       " 'scene': 337,\n",
       " 'men': 251,\n",
       " 'horror': 187,\n",
       " 'type': 418,\n",
       " 'usually': 424,\n",
       " 'beautiful': 27,\n",
       " 'daughter': 80,\n",
       " 'care': 50,\n",
       " 'year': 461,\n",
       " 'predictable': 303,\n",
       " 'humor': 193,\n",
       " 'later': 217,\n",
       " 'loved': 243,\n",
       " 'star': 372,\n",
       " 'early': 97,\n",
       " 'took': 407,\n",
       " 'possible': 302,\n",
       " 'fan': 124,\n",
       " 'enjoyed': 106,\n",
       " 'maybe': 249,\n",
       " 'apparently': 16,\n",
       " 'long': 235,\n",
       " 'ago': 12,\n",
       " 'feeling': 131,\n",
       " 'actually': 9,\n",
       " 'yes': 463,\n",
       " 'true': 411,\n",
       " 'looked': 237,\n",
       " 'evil': 112,\n",
       " 'reason': 316,\n",
       " 'started': 375,\n",
       " 'laugh': 218,\n",
       " 'annoying': 15,\n",
       " 'minutes': 255,\n",
       " 'screen': 341,\n",
       " 'trying': 414,\n",
       " 'words': 450,\n",
       " 'english': 103,\n",
       " 'saying': 335,\n",
       " 'cut': 78,\n",
       " 'man': 247,\n",
       " 'kind': 210,\n",
       " 'sort': 369,\n",
       " 'school': 339,\n",
       " 'thinking': 400,\n",
       " 'supposed': 386,\n",
       " 'town': 409,\n",
       " 'involved': 200,\n",
       " 'quite': 310,\n",
       " 'ridiculous': 322,\n",
       " 'relationship': 318,\n",
       " 'simply': 361,\n",
       " 'title': 404,\n",
       " 'excellent': 115,\n",
       " 'feel': 130,\n",
       " 'major': 246,\n",
       " 'version': 426,\n",
       " 'special': 371,\n",
       " 'effects': 99,\n",
       " 'enjoy': 104,\n",
       " 'horrible': 186,\n",
       " 'fight': 134,\n",
       " 'chance': 55,\n",
       " 'running': 329,\n",
       " 'wanted': 433,\n",
       " 'final': 137,\n",
       " 'beginning': 28,\n",
       " 'tell': 394,\n",
       " 'line': 227,\n",
       " 'save': 332,\n",
       " 'remember': 320,\n",
       " 'cinema': 61,\n",
       " 'dark': 79,\n",
       " 'actor': 6,\n",
       " 'think': 399,\n",
       " 'shot': 354,\n",
       " 'knows': 214,\n",
       " 'dvd': 96,\n",
       " 'female': 133,\n",
       " 'fine': 140,\n",
       " 'script': 342,\n",
       " 'couple': 75,\n",
       " 'hours': 189,\n",
       " 'wrong': 460,\n",
       " 'guy': 163,\n",
       " 'stop': 377,\n",
       " 'especially': 111,\n",
       " 'john': 203,\n",
       " 'girl': 150,\n",
       " 'help': 176,\n",
       " 'happen': 167,\n",
       " 'turn': 415,\n",
       " 'terrible': 396,\n",
       " 'movie': 262,\n",
       " 'women': 446,\n",
       " 'absolutely': 2,\n",
       " 'wo': 444,\n",
       " 'music': 266,\n",
       " 'takes': 390,\n",
       " 'heard': 173,\n",
       " 'start': 374,\n",
       " 'straight': 380,\n",
       " 'matter': 248,\n",
       " 'used': 422,\n",
       " 'hilarious': 180,\n",
       " 'lot': 241,\n",
       " 'moving': 263,\n",
       " 'usual': 423,\n",
       " 'worse': 454,\n",
       " 'run': 328,\n",
       " 'night': 271,\n",
       " 'stupid': 384,\n",
       " '10': 0,\n",
       " 'known': 213,\n",
       " 'actress': 8,\n",
       " 'video': 427,\n",
       " 'role': 325,\n",
       " 'job': 202,\n",
       " 'unfortunately': 420,\n",
       " 'mind': 254,\n",
       " 'miss': 256,\n",
       " 'want': 432,\n",
       " 'genre': 147,\n",
       " 'wants': 434,\n",
       " 'guess': 162,\n",
       " 'reality': 314,\n",
       " 'surprised': 388,\n",
       " 'cinematography': 62,\n",
       " 'audience': 21,\n",
       " 'hollywood': 183,\n",
       " 'war': 435,\n",
       " 'poor': 301,\n",
       " 'film': 135,\n",
       " 'able': 1,\n",
       " 'left': 221,\n",
       " 'appears': 17,\n",
       " 'somewhat': 365,\n",
       " 'soon': 368,\n",
       " 'turns': 417,\n",
       " 'coming': 70,\n",
       " 'course': 76,\n",
       " 'father': 128,\n",
       " 'past': 285,\n",
       " 'lives': 231,\n",
       " 'robert': 324,\n",
       " 'happens': 169,\n",
       " 'police': 300,\n",
       " 'falls': 122,\n",
       " 'second': 343,\n",
       " 'sad': 330,\n",
       " 'small': 364,\n",
       " 'attempt': 19,\n",
       " 'murder': 265,\n",
       " 'works': 452,\n",
       " 'directed': 91,\n",
       " 'tells': 395,\n",
       " 'finally': 138,\n",
       " 'house': 190,\n",
       " 'short': 353,\n",
       " 'moments': 259,\n",
       " 'quality': 309,\n",
       " 'opening': 278,\n",
       " 'non': 272,\n",
       " 'living': 232,\n",
       " 'close': 66,\n",
       " 'told': 406,\n",
       " 'half': 165,\n",
       " 'days': 83,\n",
       " 'friend': 142,\n",
       " 'single': 362,\n",
       " 'taking': 391,\n",
       " 'expect': 116,\n",
       " 'fast': 127,\n",
       " 'gave': 146,\n",
       " 'seriously': 349,\n",
       " 'lead': 219,\n",
       " 'talent': 392,\n",
       " 'certainly': 54,\n",
       " 'age': 11,\n",
       " 'wonder': 447,\n",
       " 'ones': 277,\n",
       " 'number': 273,\n",
       " 'including': 197,\n",
       " 'add': 10,\n",
       " 'act': 3,\n",
       " 'completely': 72,\n",
       " 'hope': 185,\n",
       " 'obviously': 275,\n",
       " 'david': 81,\n",
       " 'writer': 457,\n",
       " 'husband': 194,\n",
       " 'clearly': 65,\n",
       " 'camera': 48,\n",
       " 'child': 59,\n",
       " 'went': 440,\n",
       " 'james': 201,\n",
       " 'entertainment': 108,\n",
       " 'recommend': 317,\n",
       " 'book': 37,\n",
       " 'ending': 101,\n",
       " 'stories': 378,\n",
       " 'example': 114,\n",
       " 'local': 234,\n",
       " 'killed': 208,\n",
       " 'hit': 182,\n",
       " 'god': 155,\n",
       " 'starts': 376,\n",
       " 'highly': 179,\n",
       " 'level': 223,\n",
       " 'american': 14,\n",
       " 'car': 49,\n",
       " 'hour': 188,\n",
       " 'parts': 284,\n",
       " 'opinion': 279,\n",
       " 'obvious': 274,\n",
       " 'talking': 393,\n",
       " 'enjoyable': 105,\n",
       " 'stuff': 383,\n",
       " 'late': 216,\n",
       " 'head': 172,\n",
       " 'wife': 442,\n",
       " 'voice': 431,\n",
       " 'son': 366,\n",
       " 'simple': 360,\n",
       " 'getting': 149,\n",
       " 'sound': 370,\n",
       " 'knew': 211,\n",
       " 'day': 82,\n",
       " 'seeing': 344,\n",
       " 'heart': 174,\n",
       " 'dead': 84,\n",
       " 'fans': 125,\n",
       " 'rating': 311,\n",
       " 'shown': 356,\n",
       " 'self': 346,\n",
       " 'ends': 102,\n",
       " 'viewer': 429,\n",
       " 'problems': 307,\n",
       " 'group': 161,\n",
       " 'blood': 35,\n",
       " 'gore': 158,\n",
       " 'decent': 86,\n",
       " 'perfect': 287,\n",
       " 'art': 18,\n",
       " 'important': 196,\n",
       " 'easily': 98,\n",
       " 'silly': 358,\n",
       " 'strong': 382,\n",
       " 'strange': 381,\n",
       " 'definitely': 87,\n",
       " 'crap': 77,\n",
       " 'room': 327,\n",
       " 'overall': 282,\n",
       " 'released': 319,\n",
       " 'tries': 410,\n",
       " 'modern': 257,\n",
       " 'finds': 139,\n",
       " 'flick': 141,\n",
       " 'girls': 151,\n",
       " 'guys': 164,\n",
       " 'cool': 73,\n",
       " 'moment': 258,\n",
       " 'mean': 250,\n",
       " 'said': 331,\n",
       " 'understand': 419,\n",
       " 'near': 267,\n",
       " 'history': 181,\n",
       " 'body': 36,\n",
       " 'attention': 20}"
      ]
     },
     "execution_count": 39,
     "metadata": {},
     "output_type": "execute_result"
    }
   ],
   "source": [
    "vec=CountVectorizer(stop_words='english',min_df=0.03,max_df=0.8)\n",
    "vec.fit(x_train)\n",
    "vec.vocabulary_"
   ]
  },
  {
   "cell_type": "code",
   "execution_count": 40,
   "metadata": {},
   "outputs": [
    {
     "name": "stdout",
     "output_type": "stream",
     "text": [
      "['10' 'able' 'absolutely' 'act' 'acting' 'action' 'actor' 'actors'\n",
      " 'actress' 'actually' 'add' 'age' 'ago' 'amazing' 'american' 'annoying'\n",
      " 'apparently' 'appears' 'art' 'attempt' 'attention' 'audience' 'away'\n",
      " 'awful' 'bad' 'based' 'basically' 'beautiful' 'beginning' 'believe'\n",
      " 'best' 'better' 'big' 'bit' 'black' 'blood' 'body' 'book' 'boring' 'boy'\n",
      " 'br' 'brilliant' 'bring' 'brother' 'budget' 'ca' 'called' 'came' 'camera'\n",
      " 'car' 'care' 'career' 'case' 'cast' 'certainly' 'chance' 'change'\n",
      " 'characters' 'cheap' 'child' 'children' 'cinema' 'cinematography' 'city'\n",
      " 'classic' 'clearly' 'close' 'come' 'comedy' 'comes' 'coming' 'complete'\n",
      " 'completely' 'cool' 'country' 'couple' 'course' 'crap' 'cut' 'dark'\n",
      " 'daughter' 'david' 'day' 'days' 'dead' 'death' 'decent' 'definitely'\n",
      " 'despite' 'dialogue' 'different' 'directed' 'direction' 'director'\n",
      " 'disappointed' 'drama' 'dvd' 'early' 'easily' 'effects' 'end' 'ending'\n",
      " 'ends' 'english' 'enjoy' 'enjoyable' 'enjoyed' 'entertaining'\n",
      " 'entertainment' 'entire' 'episode' 'especially' 'evil' 'exactly'\n",
      " 'example' 'excellent' 'expect' 'experience' 'extremely' 'eyes' 'face'\n",
      " 'fact' 'falls' 'family' 'fan' 'fans' 'far' 'fast' 'father' 'favorite'\n",
      " 'feel' 'feeling' 'felt' 'female' 'fight' 'film' 'films' 'final' 'finally'\n",
      " 'finds' 'fine' 'flick' 'friend' 'friends' 'fun' 'funny' 'gave' 'genre'\n",
      " 'gets' 'getting' 'girl' 'girls' 'given' 'gives' 'giving' 'god' 'goes'\n",
      " 'going' 'gore' 'got' 'great' 'group' 'guess' 'guy' 'guys' 'half' 'hand'\n",
      " 'happen' 'happened' 'happens' 'happy' 'hard' 'head' 'heard' 'heart'\n",
      " 'hell' 'help' 'hero' 'high' 'highly' 'hilarious' 'history' 'hit'\n",
      " 'hollywood' 'home' 'hope' 'horrible' 'horror' 'hour' 'hours' 'house'\n",
      " 'huge' 'human' 'humor' 'husband' 'idea' 'important' 'including' 'instead'\n",
      " 'interesting' 'involved' 'james' 'job' 'john' 'jokes' 'kid' 'kids' 'kill'\n",
      " 'killed' 'killer' 'kind' 'knew' 'know' 'known' 'knows' 'lack' 'late'\n",
      " 'later' 'laugh' 'lead' 'leave' 'left' 'let' 'level' 'life' 'light'\n",
      " 'liked' 'line' 'lines' 'little' 'live' 'lives' 'living' 'll' 'local'\n",
      " 'long' 'look' 'looked' 'looking' 'looks' 'lost' 'lot' 'love' 'loved'\n",
      " 'low' 'main' 'major' 'man' 'matter' 'maybe' 'mean' 'men' 'michael'\n",
      " 'middle' 'mind' 'minutes' 'miss' 'modern' 'moment' 'moments' 'money'\n",
      " 'mother' 'movie' 'moving' 'mr' 'murder' 'music' 'near' 'need' 'new'\n",
      " 'nice' 'night' 'non' 'number' 'obvious' 'obviously' 'old' 'ones'\n",
      " 'opening' 'opinion' 'order' 'original' 'overall' 'particularly' 'parts'\n",
      " 'past' 'people' 'perfect' 'performance' 'performances' 'person' 'picture'\n",
      " 'piece' 'place' 'play' 'played' 'playing' 'plays' 'plot' 'point' 'police'\n",
      " 'poor' 'possible' 'predictable' 'pretty' 'probably' 'problem' 'problems'\n",
      " 'production' 'quality' 'quite' 'rating' 'read' 'real' 'reality' 'really'\n",
      " 'reason' 'recommend' 'relationship' 'released' 'remember' 'rest'\n",
      " 'ridiculous' 'right' 'robert' 'role' 'roles' 'room' 'run' 'running' 'sad'\n",
      " 'said' 'save' 'saw' 'say' 'saying' 'says' 'scene' 'scenes' 'school'\n",
      " 'score' 'screen' 'script' 'second' 'seeing' 'seen' 'self' 'sense'\n",
      " 'series' 'seriously' 'set' 'sets' 'sex' 'short' 'shot' 'shots' 'shown'\n",
      " 'shows' 'silly' 'similar' 'simple' 'simply' 'single' 'slow' 'small'\n",
      " 'somewhat' 'son' 'song' 'soon' 'sort' 'sound' 'special' 'star' 'stars'\n",
      " 'start' 'started' 'starts' 'stop' 'stories' 'story' 'straight' 'strange'\n",
      " 'strong' 'stuff' 'stupid' 'style' 'supposed' 'sure' 'surprised' 'taken'\n",
      " 'takes' 'taking' 'talent' 'talking' 'tell' 'tells' 'terrible' 'thing'\n",
      " 'things' 'think' 'thinking' 'thought' 'time' 'times' 'title' 'today'\n",
      " 'told' 'took' 'totally' 'town' 'tries' 'true' 'truly' 'try' 'trying'\n",
      " 'turn' 'turned' 'turns' 'type' 'understand' 'unfortunately' 'use' 'used'\n",
      " 'usual' 'usually' 've' 'version' 'video' 'view' 'viewer' 'violence'\n",
      " 'voice' 'want' 'wanted' 'wants' 'war' 'waste' 'watched' 'watching' 'way'\n",
      " 'went' 'white' 'wife' 'wish' 'wo' 'woman' 'women' 'wonder' 'wonderful'\n",
      " 'word' 'words' 'work' 'works' 'world' 'worse' 'worst' 'worth' 'writer'\n",
      " 'writing' 'written' 'wrong' 'year' 'years' 'yes' 'young']\n",
      "465\n"
     ]
    }
   ],
   "source": [
    "print(vec.get_feature_names_out())\n",
    "print(len(vec.get_feature_names_out()))"
   ]
  }
 ],
 "metadata": {
  "colab": {
   "collapsed_sections": [],
   "provenance": []
  },
  "kernelspec": {
   "display_name": "Python 3 (ipykernel)",
   "language": "python",
   "name": "python3"
  },
  "language_info": {
   "codemirror_mode": {
    "name": "ipython",
    "version": 3
   },
   "file_extension": ".py",
   "mimetype": "text/x-python",
   "name": "python",
   "nbconvert_exporter": "python",
   "pygments_lexer": "ipython3",
   "version": "3.11.4"
  }
 },
 "nbformat": 4,
 "nbformat_minor": 1
}
